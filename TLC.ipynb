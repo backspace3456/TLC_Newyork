{
  "cells": [
    {
      "cell_type": "code",
      "execution_count": 2,
      "metadata": {
        "colab": {
          "base_uri": "https://localhost:8080/",
          "height": 226
        },
        "id": "uKubkUWi9NFz",
        "outputId": "3f87b7e1-a72b-4801-b7ce-ade2bd19e073"
      },
      "outputs": [
        {
          "name": "stderr",
          "output_type": "stream",
          "text": [
            "C:\\Users\\Eric\\AppData\\Local\\Temp\\ipykernel_29468\\2451491261.py:3: DtypeWarning: Columns (3) have mixed types. Specify dtype option on import or set low_memory=False.\n",
            "  df=pd.read_csv(\"tlc.csv\")\n"
          ]
        },
        {
          "data": {
            "application/vnd.microsoft.datawrangler.viewer.v0+json": {
              "columns": [
                {
                  "name": "index",
                  "rawType": "int64",
                  "type": "integer"
                },
                {
                  "name": "VendorID",
                  "rawType": "int64",
                  "type": "integer"
                },
                {
                  "name": "lpep_pickup_datetime",
                  "rawType": "object",
                  "type": "string"
                },
                {
                  "name": "lpep_dropoff_datetime",
                  "rawType": "object",
                  "type": "string"
                },
                {
                  "name": "store_and_fwd_flag",
                  "rawType": "object",
                  "type": "string"
                },
                {
                  "name": "RatecodeID",
                  "rawType": "float64",
                  "type": "float"
                },
                {
                  "name": "PULocationID",
                  "rawType": "int64",
                  "type": "integer"
                },
                {
                  "name": "DOLocationID",
                  "rawType": "int64",
                  "type": "integer"
                },
                {
                  "name": "passenger_count",
                  "rawType": "float64",
                  "type": "float"
                },
                {
                  "name": "trip_distance",
                  "rawType": "float64",
                  "type": "float"
                },
                {
                  "name": "fare_amount",
                  "rawType": "float64",
                  "type": "float"
                },
                {
                  "name": "extra",
                  "rawType": "float64",
                  "type": "float"
                },
                {
                  "name": "mta_tax",
                  "rawType": "float64",
                  "type": "float"
                },
                {
                  "name": "tip_amount",
                  "rawType": "float64",
                  "type": "float"
                },
                {
                  "name": "tolls_amount",
                  "rawType": "float64",
                  "type": "float"
                },
                {
                  "name": "ehail_fee",
                  "rawType": "float64",
                  "type": "float"
                },
                {
                  "name": "improvement_surcharge",
                  "rawType": "float64",
                  "type": "float"
                },
                {
                  "name": "total_amount",
                  "rawType": "float64",
                  "type": "float"
                },
                {
                  "name": "payment_type",
                  "rawType": "float64",
                  "type": "float"
                },
                {
                  "name": "trip_type",
                  "rawType": "float64",
                  "type": "float"
                },
                {
                  "name": "congestion_surcharge",
                  "rawType": "float64",
                  "type": "float"
                }
              ],
              "ref": "bb3c8cf0-98ec-4c26-9c73-af7fead183b5",
              "rows": [
                [
                  "0",
                  "2",
                  "2023-01-01 00:26:10",
                  "2023-01-01 00:37:11",
                  "N",
                  "1.0",
                  "166",
                  "143",
                  "1.0",
                  "2.58",
                  "14.9",
                  "1.0",
                  "0.5",
                  "4.03",
                  "0.0",
                  null,
                  "1.0",
                  "24.18",
                  "1.0",
                  "1.0",
                  "2.75"
                ],
                [
                  "1",
                  "2",
                  "2023-01-01 00:51:03",
                  "2023-01-01 00:57:49",
                  "N",
                  "1.0",
                  "24",
                  "43",
                  "1.0",
                  "1.81",
                  "10.7",
                  "1.0",
                  "0.5",
                  "2.64",
                  "0.0",
                  null,
                  "1.0",
                  "15.84",
                  "1.0",
                  "1.0",
                  "0.0"
                ],
                [
                  "2",
                  "2",
                  "2023-01-01 00:35:12",
                  "2023-01-01 00:41:32",
                  "N",
                  "1.0",
                  "223",
                  "179",
                  "1.0",
                  "0.0",
                  "7.2",
                  "1.0",
                  "0.5",
                  "1.94",
                  "0.0",
                  null,
                  "1.0",
                  "11.64",
                  "1.0",
                  "1.0",
                  "0.0"
                ],
                [
                  "3",
                  "1",
                  "2023-01-01 00:13:14",
                  "2023-01-01 00:19:03",
                  "N",
                  "1.0",
                  "41",
                  "238",
                  "1.0",
                  "1.3",
                  "6.5",
                  "0.5",
                  "1.5",
                  "1.7",
                  "0.0",
                  null,
                  "1.0",
                  "10.2",
                  "1.0",
                  "1.0",
                  "0.0"
                ],
                [
                  "4",
                  "1",
                  "2023-01-01 00:33:04",
                  "2023-01-01 00:39:02",
                  "N",
                  "1.0",
                  "41",
                  "74",
                  "1.0",
                  "1.1",
                  "6.0",
                  "0.5",
                  "1.5",
                  "0.0",
                  "0.0",
                  null,
                  "1.0",
                  "8.0",
                  "1.0",
                  "1.0",
                  "0.0"
                ]
              ],
              "shape": {
                "columns": 20,
                "rows": 5
              }
            },
            "text/html": [
              "<div>\n",
              "<style scoped>\n",
              "    .dataframe tbody tr th:only-of-type {\n",
              "        vertical-align: middle;\n",
              "    }\n",
              "\n",
              "    .dataframe tbody tr th {\n",
              "        vertical-align: top;\n",
              "    }\n",
              "\n",
              "    .dataframe thead th {\n",
              "        text-align: right;\n",
              "    }\n",
              "</style>\n",
              "<table border=\"1\" class=\"dataframe\">\n",
              "  <thead>\n",
              "    <tr style=\"text-align: right;\">\n",
              "      <th></th>\n",
              "      <th>VendorID</th>\n",
              "      <th>lpep_pickup_datetime</th>\n",
              "      <th>lpep_dropoff_datetime</th>\n",
              "      <th>store_and_fwd_flag</th>\n",
              "      <th>RatecodeID</th>\n",
              "      <th>PULocationID</th>\n",
              "      <th>DOLocationID</th>\n",
              "      <th>passenger_count</th>\n",
              "      <th>trip_distance</th>\n",
              "      <th>fare_amount</th>\n",
              "      <th>extra</th>\n",
              "      <th>mta_tax</th>\n",
              "      <th>tip_amount</th>\n",
              "      <th>tolls_amount</th>\n",
              "      <th>ehail_fee</th>\n",
              "      <th>improvement_surcharge</th>\n",
              "      <th>total_amount</th>\n",
              "      <th>payment_type</th>\n",
              "      <th>trip_type</th>\n",
              "      <th>congestion_surcharge</th>\n",
              "    </tr>\n",
              "  </thead>\n",
              "  <tbody>\n",
              "    <tr>\n",
              "      <th>0</th>\n",
              "      <td>2</td>\n",
              "      <td>2023-01-01 00:26:10</td>\n",
              "      <td>2023-01-01 00:37:11</td>\n",
              "      <td>N</td>\n",
              "      <td>1.0</td>\n",
              "      <td>166</td>\n",
              "      <td>143</td>\n",
              "      <td>1.0</td>\n",
              "      <td>2.58</td>\n",
              "      <td>14.9</td>\n",
              "      <td>1.0</td>\n",
              "      <td>0.5</td>\n",
              "      <td>4.03</td>\n",
              "      <td>0.0</td>\n",
              "      <td>NaN</td>\n",
              "      <td>1.0</td>\n",
              "      <td>24.18</td>\n",
              "      <td>1.0</td>\n",
              "      <td>1.0</td>\n",
              "      <td>2.75</td>\n",
              "    </tr>\n",
              "    <tr>\n",
              "      <th>1</th>\n",
              "      <td>2</td>\n",
              "      <td>2023-01-01 00:51:03</td>\n",
              "      <td>2023-01-01 00:57:49</td>\n",
              "      <td>N</td>\n",
              "      <td>1.0</td>\n",
              "      <td>24</td>\n",
              "      <td>43</td>\n",
              "      <td>1.0</td>\n",
              "      <td>1.81</td>\n",
              "      <td>10.7</td>\n",
              "      <td>1.0</td>\n",
              "      <td>0.5</td>\n",
              "      <td>2.64</td>\n",
              "      <td>0.0</td>\n",
              "      <td>NaN</td>\n",
              "      <td>1.0</td>\n",
              "      <td>15.84</td>\n",
              "      <td>1.0</td>\n",
              "      <td>1.0</td>\n",
              "      <td>0.00</td>\n",
              "    </tr>\n",
              "    <tr>\n",
              "      <th>2</th>\n",
              "      <td>2</td>\n",
              "      <td>2023-01-01 00:35:12</td>\n",
              "      <td>2023-01-01 00:41:32</td>\n",
              "      <td>N</td>\n",
              "      <td>1.0</td>\n",
              "      <td>223</td>\n",
              "      <td>179</td>\n",
              "      <td>1.0</td>\n",
              "      <td>0.00</td>\n",
              "      <td>7.2</td>\n",
              "      <td>1.0</td>\n",
              "      <td>0.5</td>\n",
              "      <td>1.94</td>\n",
              "      <td>0.0</td>\n",
              "      <td>NaN</td>\n",
              "      <td>1.0</td>\n",
              "      <td>11.64</td>\n",
              "      <td>1.0</td>\n",
              "      <td>1.0</td>\n",
              "      <td>0.00</td>\n",
              "    </tr>\n",
              "    <tr>\n",
              "      <th>3</th>\n",
              "      <td>1</td>\n",
              "      <td>2023-01-01 00:13:14</td>\n",
              "      <td>2023-01-01 00:19:03</td>\n",
              "      <td>N</td>\n",
              "      <td>1.0</td>\n",
              "      <td>41</td>\n",
              "      <td>238</td>\n",
              "      <td>1.0</td>\n",
              "      <td>1.30</td>\n",
              "      <td>6.5</td>\n",
              "      <td>0.5</td>\n",
              "      <td>1.5</td>\n",
              "      <td>1.70</td>\n",
              "      <td>0.0</td>\n",
              "      <td>NaN</td>\n",
              "      <td>1.0</td>\n",
              "      <td>10.20</td>\n",
              "      <td>1.0</td>\n",
              "      <td>1.0</td>\n",
              "      <td>0.00</td>\n",
              "    </tr>\n",
              "    <tr>\n",
              "      <th>4</th>\n",
              "      <td>1</td>\n",
              "      <td>2023-01-01 00:33:04</td>\n",
              "      <td>2023-01-01 00:39:02</td>\n",
              "      <td>N</td>\n",
              "      <td>1.0</td>\n",
              "      <td>41</td>\n",
              "      <td>74</td>\n",
              "      <td>1.0</td>\n",
              "      <td>1.10</td>\n",
              "      <td>6.0</td>\n",
              "      <td>0.5</td>\n",
              "      <td>1.5</td>\n",
              "      <td>0.00</td>\n",
              "      <td>0.0</td>\n",
              "      <td>NaN</td>\n",
              "      <td>1.0</td>\n",
              "      <td>8.00</td>\n",
              "      <td>1.0</td>\n",
              "      <td>1.0</td>\n",
              "      <td>0.00</td>\n",
              "    </tr>\n",
              "  </tbody>\n",
              "</table>\n",
              "</div>"
            ],
            "text/plain": [
              "   VendorID lpep_pickup_datetime lpep_dropoff_datetime store_and_fwd_flag  \\\n",
              "0         2  2023-01-01 00:26:10   2023-01-01 00:37:11                  N   \n",
              "1         2  2023-01-01 00:51:03   2023-01-01 00:57:49                  N   \n",
              "2         2  2023-01-01 00:35:12   2023-01-01 00:41:32                  N   \n",
              "3         1  2023-01-01 00:13:14   2023-01-01 00:19:03                  N   \n",
              "4         1  2023-01-01 00:33:04   2023-01-01 00:39:02                  N   \n",
              "\n",
              "   RatecodeID  PULocationID  DOLocationID  passenger_count  trip_distance  \\\n",
              "0         1.0           166           143              1.0           2.58   \n",
              "1         1.0            24            43              1.0           1.81   \n",
              "2         1.0           223           179              1.0           0.00   \n",
              "3         1.0            41           238              1.0           1.30   \n",
              "4         1.0            41            74              1.0           1.10   \n",
              "\n",
              "   fare_amount  extra  mta_tax  tip_amount  tolls_amount  ehail_fee  \\\n",
              "0         14.9    1.0      0.5        4.03           0.0        NaN   \n",
              "1         10.7    1.0      0.5        2.64           0.0        NaN   \n",
              "2          7.2    1.0      0.5        1.94           0.0        NaN   \n",
              "3          6.5    0.5      1.5        1.70           0.0        NaN   \n",
              "4          6.0    0.5      1.5        0.00           0.0        NaN   \n",
              "\n",
              "   improvement_surcharge  total_amount  payment_type  trip_type  \\\n",
              "0                    1.0         24.18           1.0        1.0   \n",
              "1                    1.0         15.84           1.0        1.0   \n",
              "2                    1.0         11.64           1.0        1.0   \n",
              "3                    1.0         10.20           1.0        1.0   \n",
              "4                    1.0          8.00           1.0        1.0   \n",
              "\n",
              "   congestion_surcharge  \n",
              "0                  2.75  \n",
              "1                  0.00  \n",
              "2                  0.00  \n",
              "3                  0.00  \n",
              "4                  0.00  "
            ]
          },
          "execution_count": 2,
          "metadata": {},
          "output_type": "execute_result"
        }
      ],
      "source": [
        "import numpy as np\n",
        "import pandas as pd\n",
        "df=pd.read_csv(\"tlc.csv\")\n",
        "df.head()\n"
      ]
    },
    {
      "cell_type": "code",
      "execution_count": 3,
      "metadata": {
        "colab": {
          "base_uri": "https://localhost:8080/"
        },
        "id": "ou6payxc9jbM",
        "outputId": "b20f2a3b-a431-4002-d994-d756865dc813"
      },
      "outputs": [
        {
          "data": {
            "text/plain": [
              "<bound method NDFrame.describe of        VendorID lpep_pickup_datetime lpep_dropoff_datetime store_and_fwd_flag  \\\n",
              "0             2  2023-01-01 00:26:10   2023-01-01 00:37:11                  N   \n",
              "1             2  2023-01-01 00:51:03   2023-01-01 00:57:49                  N   \n",
              "2             2  2023-01-01 00:35:12   2023-01-01 00:41:32                  N   \n",
              "3             1  2023-01-01 00:13:14   2023-01-01 00:19:03                  N   \n",
              "4             1  2023-01-01 00:33:04   2023-01-01 00:39:02                  N   \n",
              "...         ...                  ...                   ...                ...   \n",
              "68206         2  2023-01-31 22:29:00   2023-01-31 22:42:00                NaN   \n",
              "68207         2  2023-01-31 22:40:00   2023-01-31 22:48:00                NaN   \n",
              "68208         2  2023-01-31 23:46:00   2023-02-01 00:02:00                NaN   \n",
              "68209         2  2023-01-31 23:01:00   2023-01-31 23:19:00                NaN   \n",
              "68210         2  2023-01-31 23:51:00   2023-02-01 00:07:00                NaN   \n",
              "\n",
              "       RatecodeID  PULocationID  DOLocationID  passenger_count  trip_distance  \\\n",
              "0             1.0           166           143              1.0           2.58   \n",
              "1             1.0            24            43              1.0           1.81   \n",
              "2             1.0           223           179              1.0           0.00   \n",
              "3             1.0            41           238              1.0           1.30   \n",
              "4             1.0            41            74              1.0           1.10   \n",
              "...           ...           ...           ...              ...            ...   \n",
              "68206         NaN            49            62              NaN        4070.82   \n",
              "68207         NaN            10           205              NaN           2.14   \n",
              "68208         NaN            66            37              NaN           3.44   \n",
              "68209         NaN           225           189              NaN           3.03   \n",
              "68210         NaN           256           140              NaN           5.82   \n",
              "\n",
              "       fare_amount  extra  mta_tax  tip_amount  tolls_amount  ehail_fee  \\\n",
              "0            14.90    1.0      0.5        4.03           0.0        NaN   \n",
              "1            10.70    1.0      0.5        2.64           0.0        NaN   \n",
              "2             7.20    1.0      0.5        1.94           0.0        NaN   \n",
              "3             6.50    0.5      1.5        1.70           0.0        NaN   \n",
              "4             6.00    0.5      1.5        0.00           0.0        NaN   \n",
              "...            ...    ...      ...         ...           ...        ...   \n",
              "68206        15.70    0.0      0.0        0.00           0.0        NaN   \n",
              "68207         4.41    0.0      0.0        0.00           0.0        NaN   \n",
              "68208        16.53    0.0      0.0        3.51           0.0        NaN   \n",
              "68209        14.98    0.0      0.0        3.20           0.0        NaN   \n",
              "68210        23.65    0.0      0.0        2.00           0.0        NaN   \n",
              "\n",
              "       improvement_surcharge  total_amount  payment_type  trip_type  \\\n",
              "0                        1.0         24.18           1.0        1.0   \n",
              "1                        1.0         15.84           1.0        1.0   \n",
              "2                        1.0         11.64           1.0        1.0   \n",
              "3                        1.0         10.20           1.0        1.0   \n",
              "4                        1.0          8.00           1.0        1.0   \n",
              "...                      ...           ...           ...        ...   \n",
              "68206                    1.0         16.70           NaN        NaN   \n",
              "68207                    1.0          5.41           NaN        NaN   \n",
              "68208                    1.0         21.04           NaN        NaN   \n",
              "68209                    1.0         19.18           NaN        NaN   \n",
              "68210                    1.0         29.40           NaN        NaN   \n",
              "\n",
              "       congestion_surcharge  \n",
              "0                      2.75  \n",
              "1                      0.00  \n",
              "2                      0.00  \n",
              "3                      0.00  \n",
              "4                      0.00  \n",
              "...                     ...  \n",
              "68206                   NaN  \n",
              "68207                   NaN  \n",
              "68208                   NaN  \n",
              "68209                   NaN  \n",
              "68210                   NaN  \n",
              "\n",
              "[68211 rows x 20 columns]>"
            ]
          },
          "execution_count": 3,
          "metadata": {},
          "output_type": "execute_result"
        }
      ],
      "source": [
        "df.columns\n",
        "df.describe"
      ]
    },
    {
      "cell_type": "markdown",
      "metadata": {
        "id": "IIvKONQGNj0E"
      },
      "source": [
        "<h4>Objectives & Questions Of Taxi &Limousine Commission</h4>\n",
        "\n",
        "1.   List item\n",
        "2.   List item\n",
        "\n"
      ]
    },
    {
      "cell_type": "code",
      "execution_count": null,
      "metadata": {
        "colab": {
          "base_uri": "https://localhost:8080/",
          "height": 711
        },
        "id": "VhbIEcC3-aPG",
        "outputId": "e397f430-b39b-432c-cde0-aa01b7e695a6"
      },
      "outputs": [
        {
          "data": {
            "text/html": [
              "<div>\n",
              "<style scoped>\n",
              "    .dataframe tbody tr th:only-of-type {\n",
              "        vertical-align: middle;\n",
              "    }\n",
              "\n",
              "    .dataframe tbody tr th {\n",
              "        vertical-align: top;\n",
              "    }\n",
              "\n",
              "    .dataframe thead th {\n",
              "        text-align: right;\n",
              "    }\n",
              "</style>\n",
              "<table border=\"1\" class=\"dataframe\">\n",
              "  <thead>\n",
              "    <tr style=\"text-align: right;\">\n",
              "      <th></th>\n",
              "      <th>0</th>\n",
              "    </tr>\n",
              "  </thead>\n",
              "  <tbody>\n",
              "    <tr>\n",
              "      <th>VendorID</th>\n",
              "      <td>0</td>\n",
              "    </tr>\n",
              "    <tr>\n",
              "      <th>lpep_pickup_datetime</th>\n",
              "      <td>0</td>\n",
              "    </tr>\n",
              "    <tr>\n",
              "      <th>lpep_dropoff_datetime</th>\n",
              "      <td>0</td>\n",
              "    </tr>\n",
              "    <tr>\n",
              "      <th>store_and_fwd_flag</th>\n",
              "      <td>4324</td>\n",
              "    </tr>\n",
              "    <tr>\n",
              "      <th>RatecodeID</th>\n",
              "      <td>4324</td>\n",
              "    </tr>\n",
              "    <tr>\n",
              "      <th>PULocationID</th>\n",
              "      <td>0</td>\n",
              "    </tr>\n",
              "    <tr>\n",
              "      <th>DOLocationID</th>\n",
              "      <td>0</td>\n",
              "    </tr>\n",
              "    <tr>\n",
              "      <th>passenger_count</th>\n",
              "      <td>4324</td>\n",
              "    </tr>\n",
              "    <tr>\n",
              "      <th>trip_distance</th>\n",
              "      <td>0</td>\n",
              "    </tr>\n",
              "    <tr>\n",
              "      <th>fare_amount</th>\n",
              "      <td>0</td>\n",
              "    </tr>\n",
              "    <tr>\n",
              "      <th>extra</th>\n",
              "      <td>0</td>\n",
              "    </tr>\n",
              "    <tr>\n",
              "      <th>mta_tax</th>\n",
              "      <td>0</td>\n",
              "    </tr>\n",
              "    <tr>\n",
              "      <th>tip_amount</th>\n",
              "      <td>0</td>\n",
              "    </tr>\n",
              "    <tr>\n",
              "      <th>tolls_amount</th>\n",
              "      <td>0</td>\n",
              "    </tr>\n",
              "    <tr>\n",
              "      <th>ehail_fee</th>\n",
              "      <td>68211</td>\n",
              "    </tr>\n",
              "    <tr>\n",
              "      <th>improvement_surcharge</th>\n",
              "      <td>0</td>\n",
              "    </tr>\n",
              "    <tr>\n",
              "      <th>total_amount</th>\n",
              "      <td>0</td>\n",
              "    </tr>\n",
              "    <tr>\n",
              "      <th>payment_type</th>\n",
              "      <td>4324</td>\n",
              "    </tr>\n",
              "    <tr>\n",
              "      <th>trip_type</th>\n",
              "      <td>4334</td>\n",
              "    </tr>\n",
              "    <tr>\n",
              "      <th>congestion_surcharge</th>\n",
              "      <td>4324</td>\n",
              "    </tr>\n",
              "  </tbody>\n",
              "</table>\n",
              "</div><br><label><b>dtype:</b> int64</label>"
            ],
            "text/plain": [
              "VendorID                     0\n",
              "lpep_pickup_datetime         0\n",
              "lpep_dropoff_datetime        0\n",
              "store_and_fwd_flag        4324\n",
              "RatecodeID                4324\n",
              "PULocationID                 0\n",
              "DOLocationID                 0\n",
              "passenger_count           4324\n",
              "trip_distance                0\n",
              "fare_amount                  0\n",
              "extra                        0\n",
              "mta_tax                      0\n",
              "tip_amount                   0\n",
              "tolls_amount                 0\n",
              "ehail_fee                68211\n",
              "improvement_surcharge        0\n",
              "total_amount                 0\n",
              "payment_type              4324\n",
              "trip_type                 4334\n",
              "congestion_surcharge      4324\n",
              "dtype: int64"
            ]
          },
          "execution_count": 5,
          "metadata": {},
          "output_type": "execute_result"
        }
      ],
      "source": [
        "df.isnull().sum()"
      ]
    },
    {
      "cell_type": "code",
      "execution_count": null,
      "metadata": {
        "colab": {
          "base_uri": "https://localhost:8080/",
          "height": 444
        },
        "id": "x774AYhw-hV0",
        "outputId": "317531e5-230d-4709-8b7d-cb419f60166b"
      },
      "outputs": [
        {
          "data": {
            "application/vnd.google.colaboratory.intrinsic+json": {
              "summary": "{\n  \"name\": \"df[df\",\n  \"rows\": 68211,\n  \"fields\": [\n    {\n      \"column\": \"VendorID\",\n      \"properties\": {\n        \"dtype\": \"number\",\n        \"std\": 0,\n        \"min\": 1,\n        \"max\": 2,\n        \"num_unique_values\": 2,\n        \"samples\": [\n          1,\n          2\n        ],\n        \"semantic_type\": \"\",\n        \"description\": \"\"\n      }\n    },\n    {\n      \"column\": \"lpep_pickup_datetime\",\n      \"properties\": {\n        \"dtype\": \"object\",\n        \"num_unique_values\": 66575,\n        \"samples\": [\n          \"2023-01-28 11:12:24\",\n          \"2023-01-19 10:19:27\"\n        ],\n        \"semantic_type\": \"\",\n        \"description\": \"\"\n      }\n    },\n    {\n      \"column\": \"lpep_dropoff_datetime\",\n      \"properties\": {\n        \"dtype\": \"object\",\n        \"num_unique_values\": 66519,\n        \"samples\": [\n          \"2023-01-26 19:20:50\",\n          \"2023-01-12 12:20:03\"\n        ],\n        \"semantic_type\": \"\",\n        \"description\": \"\"\n      }\n    },\n    {\n      \"column\": \"store_and_fwd_flag\",\n      \"properties\": {\n        \"dtype\": \"category\",\n        \"num_unique_values\": 2,\n        \"samples\": [\n          \"Y\",\n          \"N\"\n        ],\n        \"semantic_type\": \"\",\n        \"description\": \"\"\n      }\n    },\n    {\n      \"column\": \"RatecodeID\",\n      \"properties\": {\n        \"dtype\": \"number\",\n        \"std\": 1.3729128188549724,\n        \"min\": 1.0,\n        \"max\": 99.0,\n        \"num_unique_values\": 6,\n        \"samples\": [\n          1.0,\n          5.0\n        ],\n        \"semantic_type\": \"\",\n        \"description\": \"\"\n      }\n    },\n    {\n      \"column\": \"PULocationID\",\n      \"properties\": {\n        \"dtype\": \"number\",\n        \"std\": 61,\n        \"min\": 1,\n        \"max\": 265,\n        \"num_unique_values\": 226,\n        \"samples\": [\n          83,\n          137\n        ],\n        \"semantic_type\": \"\",\n        \"description\": \"\"\n      }\n    },\n    {\n      \"column\": \"DOLocationID\",\n      \"properties\": {\n        \"dtype\": \"number\",\n        \"std\": 76,\n        \"min\": 1,\n        \"max\": 265,\n        \"num_unique_values\": 249,\n        \"samples\": [\n          227,\n          45\n        ],\n        \"semantic_type\": \"\",\n        \"description\": \"\"\n      }\n    },\n    {\n      \"column\": \"passenger_count\",\n      \"properties\": {\n        \"dtype\": \"number\",\n        \"std\": 0.979054179773411,\n        \"min\": 0.0,\n        \"max\": 9.0,\n        \"num_unique_values\": 10,\n        \"samples\": [\n          9.0,\n          2.0\n        ],\n        \"semantic_type\": \"\",\n        \"description\": \"\"\n      }\n    },\n    {\n      \"column\": \"trip_distance\",\n      \"properties\": {\n        \"dtype\": \"number\",\n        \"std\": 585.1059548597154,\n        \"min\": 0.0,\n        \"max\": 120098.84,\n        \"num_unique_values\": 1870,\n        \"samples\": [\n          15.91,\n          9.27\n        ],\n        \"semantic_type\": \"\",\n        \"description\": \"\"\n      }\n    },\n    {\n      \"column\": \"fare_amount\",\n      \"properties\": {\n        \"dtype\": \"number\",\n        \"std\": 13.470121468166028,\n        \"min\": -70.0,\n        \"max\": 490.0,\n        \"num_unique_values\": 2553,\n        \"samples\": [\n          59.65,\n          29.57\n        ],\n        \"semantic_type\": \"\",\n        \"description\": \"\"\n      }\n    },\n    {\n      \"column\": \"extra\",\n      \"properties\": {\n        \"dtype\": \"number\",\n        \"std\": 1.2699035490613457,\n        \"min\": -2.5,\n        \"max\": 12.5,\n        \"num_unique_values\": 16,\n        \"samples\": [\n          1.0,\n          0.5\n        ],\n        \"semantic_type\": \"\",\n        \"description\": \"\"\n      }\n    },\n    {\n      \"column\": \"mta_tax\",\n      \"properties\": {\n        \"dtype\": \"number\",\n        \"std\": 0.3858191962731504,\n        \"min\": -0.5,\n        \"max\": 2.75,\n        \"num_unique_values\": 6,\n        \"samples\": [\n          0.5,\n          1.5\n        ],\n        \"semantic_type\": \"\",\n        \"description\": \"\"\n      }\n    },\n    {\n      \"column\": \"tip_amount\",\n      \"properties\": {\n        \"dtype\": \"number\",\n        \"std\": 3.0527097808868593,\n        \"min\": -10.5,\n        \"max\": 222.22,\n        \"num_unique_values\": 1492,\n        \"samples\": [\n          72.55,\n          16.94\n        ],\n        \"semantic_type\": \"\",\n        \"description\": \"\"\n      }\n    },\n    {\n      \"column\": \"tolls_amount\",\n      \"properties\": {\n        \"dtype\": \"number\",\n        \"std\": 1.0997893630161055,\n        \"min\": 0.0,\n        \"max\": 36.05,\n        \"num_unique_values\": 26,\n        \"samples\": [\n          7.0,\n          25.5\n        ],\n        \"semantic_type\": \"\",\n        \"description\": \"\"\n      }\n    },\n    {\n      \"column\": \"ehail_fee\",\n      \"properties\": {\n        \"dtype\": \"number\",\n        \"std\": null,\n        \"min\": null,\n        \"max\": null,\n        \"num_unique_values\": 0,\n        \"samples\": [],\n        \"semantic_type\": \"\",\n        \"description\": \"\"\n      }\n    },\n    {\n      \"column\": \"improvement_surcharge\",\n      \"properties\": {\n        \"dtype\": \"number\",\n        \"std\": 0.1968751393971347,\n        \"min\": -1.0,\n        \"max\": 1.0,\n        \"num_unique_values\": 5,\n        \"samples\": [],\n        \"semantic_type\": \"\",\n        \"description\": \"\"\n      }\n    },\n    {\n      \"column\": \"total_amount\",\n      \"properties\": {\n        \"dtype\": \"number\",\n        \"std\": 15.45711475975824,\n        \"min\": -71.5,\n        \"max\": 491.0,\n        \"num_unique_values\": 4670,\n        \"samples\": [],\n        \"semantic_type\": \"\",\n        \"description\": \"\"\n      }\n    },\n    {\n      \"column\": \"payment_type\",\n      \"properties\": {\n        \"dtype\": \"number\",\n        \"std\": 0.5080394346275476,\n        \"min\": 1.0,\n        \"max\": 5.0,\n        \"num_unique_values\": 5,\n        \"samples\": [],\n        \"semantic_type\": \"\",\n        \"description\": \"\"\n      }\n    },\n    {\n      \"column\": \"trip_type\",\n      \"properties\": {\n        \"dtype\": \"number\",\n        \"std\": 0.14646523881285428,\n        \"min\": 1.0,\n        \"max\": 2.0,\n        \"num_unique_values\": 2,\n        \"samples\": [],\n        \"semantic_type\": \"\",\n        \"description\": \"\"\n      }\n    },\n    {\n      \"column\": \"congestion_surcharge\",\n      \"properties\": {\n        \"dtype\": \"number\",\n        \"std\": 1.2128359706610778,\n        \"min\": -2.75,\n        \"max\": 2.75,\n        \"num_unique_values\": 4,\n        \"samples\": [],\n        \"semantic_type\": \"\",\n        \"description\": \"\"\n      }\n    }\n  ]\n}",
              "type": "dataframe"
            },
            "text/html": [
              "\n",
              "  <div id=\"df-0481fbf3-c752-48d5-af4e-dc0767012e2a\" class=\"colab-df-container\">\n",
              "    <div>\n",
              "<style scoped>\n",
              "    .dataframe tbody tr th:only-of-type {\n",
              "        vertical-align: middle;\n",
              "    }\n",
              "\n",
              "    .dataframe tbody tr th {\n",
              "        vertical-align: top;\n",
              "    }\n",
              "\n",
              "    .dataframe thead th {\n",
              "        text-align: right;\n",
              "    }\n",
              "</style>\n",
              "<table border=\"1\" class=\"dataframe\">\n",
              "  <thead>\n",
              "    <tr style=\"text-align: right;\">\n",
              "      <th></th>\n",
              "      <th>VendorID</th>\n",
              "      <th>lpep_pickup_datetime</th>\n",
              "      <th>lpep_dropoff_datetime</th>\n",
              "      <th>store_and_fwd_flag</th>\n",
              "      <th>RatecodeID</th>\n",
              "      <th>PULocationID</th>\n",
              "      <th>DOLocationID</th>\n",
              "      <th>passenger_count</th>\n",
              "      <th>trip_distance</th>\n",
              "      <th>fare_amount</th>\n",
              "      <th>extra</th>\n",
              "      <th>mta_tax</th>\n",
              "      <th>tip_amount</th>\n",
              "      <th>tolls_amount</th>\n",
              "      <th>ehail_fee</th>\n",
              "      <th>improvement_surcharge</th>\n",
              "      <th>total_amount</th>\n",
              "      <th>payment_type</th>\n",
              "      <th>trip_type</th>\n",
              "      <th>congestion_surcharge</th>\n",
              "    </tr>\n",
              "  </thead>\n",
              "  <tbody>\n",
              "    <tr>\n",
              "      <th>0</th>\n",
              "      <td>2</td>\n",
              "      <td>2023-01-01 00:26:10</td>\n",
              "      <td>2023-01-01 00:37:11</td>\n",
              "      <td>N</td>\n",
              "      <td>1.0</td>\n",
              "      <td>166</td>\n",
              "      <td>143</td>\n",
              "      <td>1.0</td>\n",
              "      <td>2.58</td>\n",
              "      <td>14.90</td>\n",
              "      <td>1.0</td>\n",
              "      <td>0.5</td>\n",
              "      <td>4.03</td>\n",
              "      <td>0.0</td>\n",
              "      <td>NaN</td>\n",
              "      <td>1.0</td>\n",
              "      <td>24.18</td>\n",
              "      <td>1.0</td>\n",
              "      <td>1.0</td>\n",
              "      <td>2.75</td>\n",
              "    </tr>\n",
              "    <tr>\n",
              "      <th>1</th>\n",
              "      <td>2</td>\n",
              "      <td>2023-01-01 00:51:03</td>\n",
              "      <td>2023-01-01 00:57:49</td>\n",
              "      <td>N</td>\n",
              "      <td>1.0</td>\n",
              "      <td>24</td>\n",
              "      <td>43</td>\n",
              "      <td>1.0</td>\n",
              "      <td>1.81</td>\n",
              "      <td>10.70</td>\n",
              "      <td>1.0</td>\n",
              "      <td>0.5</td>\n",
              "      <td>2.64</td>\n",
              "      <td>0.0</td>\n",
              "      <td>NaN</td>\n",
              "      <td>1.0</td>\n",
              "      <td>15.84</td>\n",
              "      <td>1.0</td>\n",
              "      <td>1.0</td>\n",
              "      <td>0.00</td>\n",
              "    </tr>\n",
              "    <tr>\n",
              "      <th>2</th>\n",
              "      <td>2</td>\n",
              "      <td>2023-01-01 00:35:12</td>\n",
              "      <td>2023-01-01 00:41:32</td>\n",
              "      <td>N</td>\n",
              "      <td>1.0</td>\n",
              "      <td>223</td>\n",
              "      <td>179</td>\n",
              "      <td>1.0</td>\n",
              "      <td>0.00</td>\n",
              "      <td>7.20</td>\n",
              "      <td>1.0</td>\n",
              "      <td>0.5</td>\n",
              "      <td>1.94</td>\n",
              "      <td>0.0</td>\n",
              "      <td>NaN</td>\n",
              "      <td>1.0</td>\n",
              "      <td>11.64</td>\n",
              "      <td>1.0</td>\n",
              "      <td>1.0</td>\n",
              "      <td>0.00</td>\n",
              "    </tr>\n",
              "    <tr>\n",
              "      <th>3</th>\n",
              "      <td>1</td>\n",
              "      <td>2023-01-01 00:13:14</td>\n",
              "      <td>2023-01-01 00:19:03</td>\n",
              "      <td>N</td>\n",
              "      <td>1.0</td>\n",
              "      <td>41</td>\n",
              "      <td>238</td>\n",
              "      <td>1.0</td>\n",
              "      <td>1.30</td>\n",
              "      <td>6.50</td>\n",
              "      <td>0.5</td>\n",
              "      <td>1.5</td>\n",
              "      <td>1.70</td>\n",
              "      <td>0.0</td>\n",
              "      <td>NaN</td>\n",
              "      <td>1.0</td>\n",
              "      <td>10.20</td>\n",
              "      <td>1.0</td>\n",
              "      <td>1.0</td>\n",
              "      <td>0.00</td>\n",
              "    </tr>\n",
              "    <tr>\n",
              "      <th>4</th>\n",
              "      <td>1</td>\n",
              "      <td>2023-01-01 00:33:04</td>\n",
              "      <td>2023-01-01 00:39:02</td>\n",
              "      <td>N</td>\n",
              "      <td>1.0</td>\n",
              "      <td>41</td>\n",
              "      <td>74</td>\n",
              "      <td>1.0</td>\n",
              "      <td>1.10</td>\n",
              "      <td>6.00</td>\n",
              "      <td>0.5</td>\n",
              "      <td>1.5</td>\n",
              "      <td>0.00</td>\n",
              "      <td>0.0</td>\n",
              "      <td>NaN</td>\n",
              "      <td>1.0</td>\n",
              "      <td>8.00</td>\n",
              "      <td>1.0</td>\n",
              "      <td>1.0</td>\n",
              "      <td>0.00</td>\n",
              "    </tr>\n",
              "    <tr>\n",
              "      <th>...</th>\n",
              "      <td>...</td>\n",
              "      <td>...</td>\n",
              "      <td>...</td>\n",
              "      <td>...</td>\n",
              "      <td>...</td>\n",
              "      <td>...</td>\n",
              "      <td>...</td>\n",
              "      <td>...</td>\n",
              "      <td>...</td>\n",
              "      <td>...</td>\n",
              "      <td>...</td>\n",
              "      <td>...</td>\n",
              "      <td>...</td>\n",
              "      <td>...</td>\n",
              "      <td>...</td>\n",
              "      <td>...</td>\n",
              "      <td>...</td>\n",
              "      <td>...</td>\n",
              "      <td>...</td>\n",
              "      <td>...</td>\n",
              "    </tr>\n",
              "    <tr>\n",
              "      <th>68206</th>\n",
              "      <td>2</td>\n",
              "      <td>2023-01-31 22:29:00</td>\n",
              "      <td>2023-01-31 22:42:00</td>\n",
              "      <td>NaN</td>\n",
              "      <td>NaN</td>\n",
              "      <td>49</td>\n",
              "      <td>62</td>\n",
              "      <td>NaN</td>\n",
              "      <td>4070.82</td>\n",
              "      <td>15.70</td>\n",
              "      <td>0.0</td>\n",
              "      <td>0.0</td>\n",
              "      <td>0.00</td>\n",
              "      <td>0.0</td>\n",
              "      <td>NaN</td>\n",
              "      <td>1.0</td>\n",
              "      <td>16.70</td>\n",
              "      <td>NaN</td>\n",
              "      <td>NaN</td>\n",
              "      <td>NaN</td>\n",
              "    </tr>\n",
              "    <tr>\n",
              "      <th>68207</th>\n",
              "      <td>2</td>\n",
              "      <td>2023-01-31 22:40:00</td>\n",
              "      <td>2023-01-31 22:48:00</td>\n",
              "      <td>NaN</td>\n",
              "      <td>NaN</td>\n",
              "      <td>10</td>\n",
              "      <td>205</td>\n",
              "      <td>NaN</td>\n",
              "      <td>2.14</td>\n",
              "      <td>4.41</td>\n",
              "      <td>0.0</td>\n",
              "      <td>0.0</td>\n",
              "      <td>0.00</td>\n",
              "      <td>0.0</td>\n",
              "      <td>NaN</td>\n",
              "      <td>1.0</td>\n",
              "      <td>5.41</td>\n",
              "      <td>NaN</td>\n",
              "      <td>NaN</td>\n",
              "      <td>NaN</td>\n",
              "    </tr>\n",
              "    <tr>\n",
              "      <th>68208</th>\n",
              "      <td>2</td>\n",
              "      <td>2023-01-31 23:46:00</td>\n",
              "      <td>2023-02-01 00:02:00</td>\n",
              "      <td>NaN</td>\n",
              "      <td>NaN</td>\n",
              "      <td>66</td>\n",
              "      <td>37</td>\n",
              "      <td>NaN</td>\n",
              "      <td>3.44</td>\n",
              "      <td>16.53</td>\n",
              "      <td>0.0</td>\n",
              "      <td>0.0</td>\n",
              "      <td>3.51</td>\n",
              "      <td>0.0</td>\n",
              "      <td>NaN</td>\n",
              "      <td>1.0</td>\n",
              "      <td>21.04</td>\n",
              "      <td>NaN</td>\n",
              "      <td>NaN</td>\n",
              "      <td>NaN</td>\n",
              "    </tr>\n",
              "    <tr>\n",
              "      <th>68209</th>\n",
              "      <td>2</td>\n",
              "      <td>2023-01-31 23:01:00</td>\n",
              "      <td>2023-01-31 23:19:00</td>\n",
              "      <td>NaN</td>\n",
              "      <td>NaN</td>\n",
              "      <td>225</td>\n",
              "      <td>189</td>\n",
              "      <td>NaN</td>\n",
              "      <td>3.03</td>\n",
              "      <td>14.98</td>\n",
              "      <td>0.0</td>\n",
              "      <td>0.0</td>\n",
              "      <td>3.20</td>\n",
              "      <td>0.0</td>\n",
              "      <td>NaN</td>\n",
              "      <td>1.0</td>\n",
              "      <td>19.18</td>\n",
              "      <td>NaN</td>\n",
              "      <td>NaN</td>\n",
              "      <td>NaN</td>\n",
              "    </tr>\n",
              "    <tr>\n",
              "      <th>68210</th>\n",
              "      <td>2</td>\n",
              "      <td>2023-01-31 23:51:00</td>\n",
              "      <td>2023-02-01 00:07:00</td>\n",
              "      <td>NaN</td>\n",
              "      <td>NaN</td>\n",
              "      <td>256</td>\n",
              "      <td>140</td>\n",
              "      <td>NaN</td>\n",
              "      <td>5.82</td>\n",
              "      <td>23.65</td>\n",
              "      <td>0.0</td>\n",
              "      <td>0.0</td>\n",
              "      <td>2.00</td>\n",
              "      <td>0.0</td>\n",
              "      <td>NaN</td>\n",
              "      <td>1.0</td>\n",
              "      <td>29.40</td>\n",
              "      <td>NaN</td>\n",
              "      <td>NaN</td>\n",
              "      <td>NaN</td>\n",
              "    </tr>\n",
              "  </tbody>\n",
              "</table>\n",
              "<p>68211 rows × 20 columns</p>\n",
              "</div>\n",
              "    <div class=\"colab-df-buttons\">\n",
              "\n",
              "  <div class=\"colab-df-container\">\n",
              "    <button class=\"colab-df-convert\" onclick=\"convertToInteractive('df-0481fbf3-c752-48d5-af4e-dc0767012e2a')\"\n",
              "            title=\"Convert this dataframe to an interactive table.\"\n",
              "            style=\"display:none;\">\n",
              "\n",
              "  <svg xmlns=\"http://www.w3.org/2000/svg\" height=\"24px\" viewBox=\"0 -960 960 960\">\n",
              "    <path d=\"M120-120v-720h720v720H120Zm60-500h600v-160H180v160Zm220 220h160v-160H400v160Zm0 220h160v-160H400v160ZM180-400h160v-160H180v160Zm440 0h160v-160H620v160ZM180-180h160v-160H180v160Zm440 0h160v-160H620v160Z\"/>\n",
              "  </svg>\n",
              "    </button>\n",
              "\n",
              "  <style>\n",
              "    .colab-df-container {\n",
              "      display:flex;\n",
              "      gap: 12px;\n",
              "    }\n",
              "\n",
              "    .colab-df-convert {\n",
              "      background-color: #E8F0FE;\n",
              "      border: none;\n",
              "      border-radius: 50%;\n",
              "      cursor: pointer;\n",
              "      display: none;\n",
              "      fill: #1967D2;\n",
              "      height: 32px;\n",
              "      padding: 0 0 0 0;\n",
              "      width: 32px;\n",
              "    }\n",
              "\n",
              "    .colab-df-convert:hover {\n",
              "      background-color: #E2EBFA;\n",
              "      box-shadow: 0px 1px 2px rgba(60, 64, 67, 0.3), 0px 1px 3px 1px rgba(60, 64, 67, 0.15);\n",
              "      fill: #174EA6;\n",
              "    }\n",
              "\n",
              "    .colab-df-buttons div {\n",
              "      margin-bottom: 4px;\n",
              "    }\n",
              "\n",
              "    [theme=dark] .colab-df-convert {\n",
              "      background-color: #3B4455;\n",
              "      fill: #D2E3FC;\n",
              "    }\n",
              "\n",
              "    [theme=dark] .colab-df-convert:hover {\n",
              "      background-color: #434B5C;\n",
              "      box-shadow: 0px 1px 3px 1px rgba(0, 0, 0, 0.15);\n",
              "      filter: drop-shadow(0px 1px 2px rgba(0, 0, 0, 0.3));\n",
              "      fill: #FFFFFF;\n",
              "    }\n",
              "  </style>\n",
              "\n",
              "    <script>\n",
              "      const buttonEl =\n",
              "        document.querySelector('#df-0481fbf3-c752-48d5-af4e-dc0767012e2a button.colab-df-convert');\n",
              "      buttonEl.style.display =\n",
              "        google.colab.kernel.accessAllowed ? 'block' : 'none';\n",
              "\n",
              "      async function convertToInteractive(key) {\n",
              "        const element = document.querySelector('#df-0481fbf3-c752-48d5-af4e-dc0767012e2a');\n",
              "        const dataTable =\n",
              "          await google.colab.kernel.invokeFunction('convertToInteractive',\n",
              "                                                    [key], {});\n",
              "        if (!dataTable) return;\n",
              "\n",
              "        const docLinkHtml = 'Like what you see? Visit the ' +\n",
              "          '<a target=\"_blank\" href=https://colab.research.google.com/notebooks/data_table.ipynb>data table notebook</a>'\n",
              "          + ' to learn more about interactive tables.';\n",
              "        element.innerHTML = '';\n",
              "        dataTable['output_type'] = 'display_data';\n",
              "        await google.colab.output.renderOutput(dataTable, element);\n",
              "        const docLink = document.createElement('div');\n",
              "        docLink.innerHTML = docLinkHtml;\n",
              "        element.appendChild(docLink);\n",
              "      }\n",
              "    </script>\n",
              "  </div>\n",
              "\n",
              "\n",
              "    <div id=\"df-c2f9b3cb-62c8-4e9f-b891-104daeca343a\">\n",
              "      <button class=\"colab-df-quickchart\" onclick=\"quickchart('df-c2f9b3cb-62c8-4e9f-b891-104daeca343a')\"\n",
              "                title=\"Suggest charts\"\n",
              "                style=\"display:none;\">\n",
              "\n",
              "<svg xmlns=\"http://www.w3.org/2000/svg\" height=\"24px\"viewBox=\"0 0 24 24\"\n",
              "     width=\"24px\">\n",
              "    <g>\n",
              "        <path d=\"M19 3H5c-1.1 0-2 .9-2 2v14c0 1.1.9 2 2 2h14c1.1 0 2-.9 2-2V5c0-1.1-.9-2-2-2zM9 17H7v-7h2v7zm4 0h-2V7h2v10zm4 0h-2v-4h2v4z\"/>\n",
              "    </g>\n",
              "</svg>\n",
              "      </button>\n",
              "\n",
              "<style>\n",
              "  .colab-df-quickchart {\n",
              "      --bg-color: #E8F0FE;\n",
              "      --fill-color: #1967D2;\n",
              "      --hover-bg-color: #E2EBFA;\n",
              "      --hover-fill-color: #174EA6;\n",
              "      --disabled-fill-color: #AAA;\n",
              "      --disabled-bg-color: #DDD;\n",
              "  }\n",
              "\n",
              "  [theme=dark] .colab-df-quickchart {\n",
              "      --bg-color: #3B4455;\n",
              "      --fill-color: #D2E3FC;\n",
              "      --hover-bg-color: #434B5C;\n",
              "      --hover-fill-color: #FFFFFF;\n",
              "      --disabled-bg-color: #3B4455;\n",
              "      --disabled-fill-color: #666;\n",
              "  }\n",
              "\n",
              "  .colab-df-quickchart {\n",
              "    background-color: var(--bg-color);\n",
              "    border: none;\n",
              "    border-radius: 50%;\n",
              "    cursor: pointer;\n",
              "    display: none;\n",
              "    fill: var(--fill-color);\n",
              "    height: 32px;\n",
              "    padding: 0;\n",
              "    width: 32px;\n",
              "  }\n",
              "\n",
              "  .colab-df-quickchart:hover {\n",
              "    background-color: var(--hover-bg-color);\n",
              "    box-shadow: 0 1px 2px rgba(60, 64, 67, 0.3), 0 1px 3px 1px rgba(60, 64, 67, 0.15);\n",
              "    fill: var(--button-hover-fill-color);\n",
              "  }\n",
              "\n",
              "  .colab-df-quickchart-complete:disabled,\n",
              "  .colab-df-quickchart-complete:disabled:hover {\n",
              "    background-color: var(--disabled-bg-color);\n",
              "    fill: var(--disabled-fill-color);\n",
              "    box-shadow: none;\n",
              "  }\n",
              "\n",
              "  .colab-df-spinner {\n",
              "    border: 2px solid var(--fill-color);\n",
              "    border-color: transparent;\n",
              "    border-bottom-color: var(--fill-color);\n",
              "    animation:\n",
              "      spin 1s steps(1) infinite;\n",
              "  }\n",
              "\n",
              "  @keyframes spin {\n",
              "    0% {\n",
              "      border-color: transparent;\n",
              "      border-bottom-color: var(--fill-color);\n",
              "      border-left-color: var(--fill-color);\n",
              "    }\n",
              "    20% {\n",
              "      border-color: transparent;\n",
              "      border-left-color: var(--fill-color);\n",
              "      border-top-color: var(--fill-color);\n",
              "    }\n",
              "    30% {\n",
              "      border-color: transparent;\n",
              "      border-left-color: var(--fill-color);\n",
              "      border-top-color: var(--fill-color);\n",
              "      border-right-color: var(--fill-color);\n",
              "    }\n",
              "    40% {\n",
              "      border-color: transparent;\n",
              "      border-right-color: var(--fill-color);\n",
              "      border-top-color: var(--fill-color);\n",
              "    }\n",
              "    60% {\n",
              "      border-color: transparent;\n",
              "      border-right-color: var(--fill-color);\n",
              "    }\n",
              "    80% {\n",
              "      border-color: transparent;\n",
              "      border-right-color: var(--fill-color);\n",
              "      border-bottom-color: var(--fill-color);\n",
              "    }\n",
              "    90% {\n",
              "      border-color: transparent;\n",
              "      border-bottom-color: var(--fill-color);\n",
              "    }\n",
              "  }\n",
              "</style>\n",
              "\n",
              "      <script>\n",
              "        async function quickchart(key) {\n",
              "          const quickchartButtonEl =\n",
              "            document.querySelector('#' + key + ' button');\n",
              "          quickchartButtonEl.disabled = true;  // To prevent multiple clicks.\n",
              "          quickchartButtonEl.classList.add('colab-df-spinner');\n",
              "          try {\n",
              "            const charts = await google.colab.kernel.invokeFunction(\n",
              "                'suggestCharts', [key], {});\n",
              "          } catch (error) {\n",
              "            console.error('Error during call to suggestCharts:', error);\n",
              "          }\n",
              "          quickchartButtonEl.classList.remove('colab-df-spinner');\n",
              "          quickchartButtonEl.classList.add('colab-df-quickchart-complete');\n",
              "        }\n",
              "        (() => {\n",
              "          let quickchartButtonEl =\n",
              "            document.querySelector('#df-c2f9b3cb-62c8-4e9f-b891-104daeca343a button');\n",
              "          quickchartButtonEl.style.display =\n",
              "            google.colab.kernel.accessAllowed ? 'block' : 'none';\n",
              "        })();\n",
              "      </script>\n",
              "    </div>\n",
              "\n",
              "    </div>\n",
              "  </div>\n"
            ],
            "text/plain": [
              "       VendorID lpep_pickup_datetime lpep_dropoff_datetime store_and_fwd_flag  \\\n",
              "0             2  2023-01-01 00:26:10   2023-01-01 00:37:11                  N   \n",
              "1             2  2023-01-01 00:51:03   2023-01-01 00:57:49                  N   \n",
              "2             2  2023-01-01 00:35:12   2023-01-01 00:41:32                  N   \n",
              "3             1  2023-01-01 00:13:14   2023-01-01 00:19:03                  N   \n",
              "4             1  2023-01-01 00:33:04   2023-01-01 00:39:02                  N   \n",
              "...         ...                  ...                   ...                ...   \n",
              "68206         2  2023-01-31 22:29:00   2023-01-31 22:42:00                NaN   \n",
              "68207         2  2023-01-31 22:40:00   2023-01-31 22:48:00                NaN   \n",
              "68208         2  2023-01-31 23:46:00   2023-02-01 00:02:00                NaN   \n",
              "68209         2  2023-01-31 23:01:00   2023-01-31 23:19:00                NaN   \n",
              "68210         2  2023-01-31 23:51:00   2023-02-01 00:07:00                NaN   \n",
              "\n",
              "       RatecodeID  PULocationID  DOLocationID  passenger_count  trip_distance  \\\n",
              "0             1.0           166           143              1.0           2.58   \n",
              "1             1.0            24            43              1.0           1.81   \n",
              "2             1.0           223           179              1.0           0.00   \n",
              "3             1.0            41           238              1.0           1.30   \n",
              "4             1.0            41            74              1.0           1.10   \n",
              "...           ...           ...           ...              ...            ...   \n",
              "68206         NaN            49            62              NaN        4070.82   \n",
              "68207         NaN            10           205              NaN           2.14   \n",
              "68208         NaN            66            37              NaN           3.44   \n",
              "68209         NaN           225           189              NaN           3.03   \n",
              "68210         NaN           256           140              NaN           5.82   \n",
              "\n",
              "       fare_amount  extra  mta_tax  tip_amount  tolls_amount  ehail_fee  \\\n",
              "0            14.90    1.0      0.5        4.03           0.0        NaN   \n",
              "1            10.70    1.0      0.5        2.64           0.0        NaN   \n",
              "2             7.20    1.0      0.5        1.94           0.0        NaN   \n",
              "3             6.50    0.5      1.5        1.70           0.0        NaN   \n",
              "4             6.00    0.5      1.5        0.00           0.0        NaN   \n",
              "...            ...    ...      ...         ...           ...        ...   \n",
              "68206        15.70    0.0      0.0        0.00           0.0        NaN   \n",
              "68207         4.41    0.0      0.0        0.00           0.0        NaN   \n",
              "68208        16.53    0.0      0.0        3.51           0.0        NaN   \n",
              "68209        14.98    0.0      0.0        3.20           0.0        NaN   \n",
              "68210        23.65    0.0      0.0        2.00           0.0        NaN   \n",
              "\n",
              "       improvement_surcharge  total_amount  payment_type  trip_type  \\\n",
              "0                        1.0         24.18           1.0        1.0   \n",
              "1                        1.0         15.84           1.0        1.0   \n",
              "2                        1.0         11.64           1.0        1.0   \n",
              "3                        1.0         10.20           1.0        1.0   \n",
              "4                        1.0          8.00           1.0        1.0   \n",
              "...                      ...           ...           ...        ...   \n",
              "68206                    1.0         16.70           NaN        NaN   \n",
              "68207                    1.0          5.41           NaN        NaN   \n",
              "68208                    1.0         21.04           NaN        NaN   \n",
              "68209                    1.0         19.18           NaN        NaN   \n",
              "68210                    1.0         29.40           NaN        NaN   \n",
              "\n",
              "       congestion_surcharge  \n",
              "0                      2.75  \n",
              "1                      0.00  \n",
              "2                      0.00  \n",
              "3                      0.00  \n",
              "4                      0.00  \n",
              "...                     ...  \n",
              "68206                   NaN  \n",
              "68207                   NaN  \n",
              "68208                   NaN  \n",
              "68209                   NaN  \n",
              "68210                   NaN  \n",
              "\n",
              "[68211 rows x 20 columns]"
            ]
          },
          "execution_count": 6,
          "metadata": {},
          "output_type": "execute_result"
        }
      ],
      "source": [
        "df[df.isnull().any(axis=1)]"
      ]
    },
    {
      "cell_type": "code",
      "execution_count": null,
      "metadata": {
        "colab": {
          "base_uri": "https://localhost:8080/",
          "height": 444
        },
        "id": "_ay5sJqR_NDm",
        "outputId": "5e05a0e0-b4b7-423e-ad97-d6f881d779d0"
      },
      "outputs": [
        {
          "data": {
            "application/vnd.google.colaboratory.intrinsic+json": {
              "summary": "{\n  \"name\": \"df\",\n  \"rows\": 68211,\n  \"fields\": [\n    {\n      \"column\": \"VendorID\",\n      \"properties\": {\n        \"dtype\": \"number\",\n        \"std\": 0,\n        \"min\": 1,\n        \"max\": 2,\n        \"num_unique_values\": 2,\n        \"samples\": [\n          1,\n          2\n        ],\n        \"semantic_type\": \"\",\n        \"description\": \"\"\n      }\n    },\n    {\n      \"column\": \"lpep_pickup_datetime\",\n      \"properties\": {\n        \"dtype\": \"object\",\n        \"num_unique_values\": 66575,\n        \"samples\": [\n          \"2023-01-28 11:12:24\",\n          \"2023-01-19 10:19:27\"\n        ],\n        \"semantic_type\": \"\",\n        \"description\": \"\"\n      }\n    },\n    {\n      \"column\": \"lpep_dropoff_datetime\",\n      \"properties\": {\n        \"dtype\": \"object\",\n        \"num_unique_values\": 66519,\n        \"samples\": [\n          \"2023-01-26 19:20:50\",\n          \"2023-01-12 12:20:03\"\n        ],\n        \"semantic_type\": \"\",\n        \"description\": \"\"\n      }\n    },\n    {\n      \"column\": \"PULocationID\",\n      \"properties\": {\n        \"dtype\": \"number\",\n        \"std\": 61,\n        \"min\": 1,\n        \"max\": 265,\n        \"num_unique_values\": 226,\n        \"samples\": [\n          83,\n          137\n        ],\n        \"semantic_type\": \"\",\n        \"description\": \"\"\n      }\n    },\n    {\n      \"column\": \"DOLocationID\",\n      \"properties\": {\n        \"dtype\": \"number\",\n        \"std\": 76,\n        \"min\": 1,\n        \"max\": 265,\n        \"num_unique_values\": 249,\n        \"samples\": [\n          227,\n          45\n        ],\n        \"semantic_type\": \"\",\n        \"description\": \"\"\n      }\n    },\n    {\n      \"column\": \"trip_distance\",\n      \"properties\": {\n        \"dtype\": \"number\",\n        \"std\": 585.1059548597154,\n        \"min\": 0.0,\n        \"max\": 120098.84,\n        \"num_unique_values\": 1870,\n        \"samples\": [\n          15.91,\n          9.27\n        ],\n        \"semantic_type\": \"\",\n        \"description\": \"\"\n      }\n    },\n    {\n      \"column\": \"fare_amount\",\n      \"properties\": {\n        \"dtype\": \"number\",\n        \"std\": 13.470121468166028,\n        \"min\": -70.0,\n        \"max\": 490.0,\n        \"num_unique_values\": 2553,\n        \"samples\": [\n          59.65,\n          29.57\n        ],\n        \"semantic_type\": \"\",\n        \"description\": \"\"\n      }\n    },\n    {\n      \"column\": \"extra\",\n      \"properties\": {\n        \"dtype\": \"number\",\n        \"std\": 1.2699035490613457,\n        \"min\": -2.5,\n        \"max\": 12.5,\n        \"num_unique_values\": 16,\n        \"samples\": [\n          1.0,\n          0.5\n        ],\n        \"semantic_type\": \"\",\n        \"description\": \"\"\n      }\n    },\n    {\n      \"column\": \"mta_tax\",\n      \"properties\": {\n        \"dtype\": \"number\",\n        \"std\": 0.3858191962731504,\n        \"min\": -0.5,\n        \"max\": 2.75,\n        \"num_unique_values\": 6,\n        \"samples\": [\n          0.5,\n          1.5\n        ],\n        \"semantic_type\": \"\",\n        \"description\": \"\"\n      }\n    },\n    {\n      \"column\": \"tip_amount\",\n      \"properties\": {\n        \"dtype\": \"number\",\n        \"std\": 3.0527097808868593,\n        \"min\": -10.5,\n        \"max\": 222.22,\n        \"num_unique_values\": 1492,\n        \"samples\": [\n          72.55,\n          16.94\n        ],\n        \"semantic_type\": \"\",\n        \"description\": \"\"\n      }\n    },\n    {\n      \"column\": \"tolls_amount\",\n      \"properties\": {\n        \"dtype\": \"number\",\n        \"std\": 1.0997893630161055,\n        \"min\": 0.0,\n        \"max\": 36.05,\n        \"num_unique_values\": 26,\n        \"samples\": [\n          7.0,\n          25.5\n        ],\n        \"semantic_type\": \"\",\n        \"description\": \"\"\n      }\n    },\n    {\n      \"column\": \"improvement_surcharge\",\n      \"properties\": {\n        \"dtype\": \"number\",\n        \"std\": 0.1968751393971347,\n        \"min\": -1.0,\n        \"max\": 1.0,\n        \"num_unique_values\": 5,\n        \"samples\": [\n          0.0,\n          -0.3\n        ],\n        \"semantic_type\": \"\",\n        \"description\": \"\"\n      }\n    },\n    {\n      \"column\": \"total_amount\",\n      \"properties\": {\n        \"dtype\": \"number\",\n        \"std\": 15.45711475975824,\n        \"min\": -71.5,\n        \"max\": 491.0,\n        \"num_unique_values\": 4670,\n        \"samples\": [\n          30.15,\n          46.7\n        ],\n        \"semantic_type\": \"\",\n        \"description\": \"\"\n      }\n    }\n  ]\n}",
              "type": "dataframe"
            },
            "text/html": [
              "\n",
              "  <div id=\"df-417e8ea6-7a7a-498f-84e6-7737c0004c6c\" class=\"colab-df-container\">\n",
              "    <div>\n",
              "<style scoped>\n",
              "    .dataframe tbody tr th:only-of-type {\n",
              "        vertical-align: middle;\n",
              "    }\n",
              "\n",
              "    .dataframe tbody tr th {\n",
              "        vertical-align: top;\n",
              "    }\n",
              "\n",
              "    .dataframe thead th {\n",
              "        text-align: right;\n",
              "    }\n",
              "</style>\n",
              "<table border=\"1\" class=\"dataframe\">\n",
              "  <thead>\n",
              "    <tr style=\"text-align: right;\">\n",
              "      <th></th>\n",
              "      <th>VendorID</th>\n",
              "      <th>lpep_pickup_datetime</th>\n",
              "      <th>lpep_dropoff_datetime</th>\n",
              "      <th>PULocationID</th>\n",
              "      <th>DOLocationID</th>\n",
              "      <th>trip_distance</th>\n",
              "      <th>fare_amount</th>\n",
              "      <th>extra</th>\n",
              "      <th>mta_tax</th>\n",
              "      <th>tip_amount</th>\n",
              "      <th>tolls_amount</th>\n",
              "      <th>improvement_surcharge</th>\n",
              "      <th>total_amount</th>\n",
              "    </tr>\n",
              "  </thead>\n",
              "  <tbody>\n",
              "    <tr>\n",
              "      <th>0</th>\n",
              "      <td>2</td>\n",
              "      <td>2023-01-01 00:26:10</td>\n",
              "      <td>2023-01-01 00:37:11</td>\n",
              "      <td>166</td>\n",
              "      <td>143</td>\n",
              "      <td>2.58</td>\n",
              "      <td>14.90</td>\n",
              "      <td>1.0</td>\n",
              "      <td>0.5</td>\n",
              "      <td>4.03</td>\n",
              "      <td>0.0</td>\n",
              "      <td>1.0</td>\n",
              "      <td>24.18</td>\n",
              "    </tr>\n",
              "    <tr>\n",
              "      <th>1</th>\n",
              "      <td>2</td>\n",
              "      <td>2023-01-01 00:51:03</td>\n",
              "      <td>2023-01-01 00:57:49</td>\n",
              "      <td>24</td>\n",
              "      <td>43</td>\n",
              "      <td>1.81</td>\n",
              "      <td>10.70</td>\n",
              "      <td>1.0</td>\n",
              "      <td>0.5</td>\n",
              "      <td>2.64</td>\n",
              "      <td>0.0</td>\n",
              "      <td>1.0</td>\n",
              "      <td>15.84</td>\n",
              "    </tr>\n",
              "    <tr>\n",
              "      <th>2</th>\n",
              "      <td>2</td>\n",
              "      <td>2023-01-01 00:35:12</td>\n",
              "      <td>2023-01-01 00:41:32</td>\n",
              "      <td>223</td>\n",
              "      <td>179</td>\n",
              "      <td>0.00</td>\n",
              "      <td>7.20</td>\n",
              "      <td>1.0</td>\n",
              "      <td>0.5</td>\n",
              "      <td>1.94</td>\n",
              "      <td>0.0</td>\n",
              "      <td>1.0</td>\n",
              "      <td>11.64</td>\n",
              "    </tr>\n",
              "    <tr>\n",
              "      <th>3</th>\n",
              "      <td>1</td>\n",
              "      <td>2023-01-01 00:13:14</td>\n",
              "      <td>2023-01-01 00:19:03</td>\n",
              "      <td>41</td>\n",
              "      <td>238</td>\n",
              "      <td>1.30</td>\n",
              "      <td>6.50</td>\n",
              "      <td>0.5</td>\n",
              "      <td>1.5</td>\n",
              "      <td>1.70</td>\n",
              "      <td>0.0</td>\n",
              "      <td>1.0</td>\n",
              "      <td>10.20</td>\n",
              "    </tr>\n",
              "    <tr>\n",
              "      <th>4</th>\n",
              "      <td>1</td>\n",
              "      <td>2023-01-01 00:33:04</td>\n",
              "      <td>2023-01-01 00:39:02</td>\n",
              "      <td>41</td>\n",
              "      <td>74</td>\n",
              "      <td>1.10</td>\n",
              "      <td>6.00</td>\n",
              "      <td>0.5</td>\n",
              "      <td>1.5</td>\n",
              "      <td>0.00</td>\n",
              "      <td>0.0</td>\n",
              "      <td>1.0</td>\n",
              "      <td>8.00</td>\n",
              "    </tr>\n",
              "    <tr>\n",
              "      <th>...</th>\n",
              "      <td>...</td>\n",
              "      <td>...</td>\n",
              "      <td>...</td>\n",
              "      <td>...</td>\n",
              "      <td>...</td>\n",
              "      <td>...</td>\n",
              "      <td>...</td>\n",
              "      <td>...</td>\n",
              "      <td>...</td>\n",
              "      <td>...</td>\n",
              "      <td>...</td>\n",
              "      <td>...</td>\n",
              "      <td>...</td>\n",
              "    </tr>\n",
              "    <tr>\n",
              "      <th>68206</th>\n",
              "      <td>2</td>\n",
              "      <td>2023-01-31 22:29:00</td>\n",
              "      <td>2023-01-31 22:42:00</td>\n",
              "      <td>49</td>\n",
              "      <td>62</td>\n",
              "      <td>4070.82</td>\n",
              "      <td>15.70</td>\n",
              "      <td>0.0</td>\n",
              "      <td>0.0</td>\n",
              "      <td>0.00</td>\n",
              "      <td>0.0</td>\n",
              "      <td>1.0</td>\n",
              "      <td>16.70</td>\n",
              "    </tr>\n",
              "    <tr>\n",
              "      <th>68207</th>\n",
              "      <td>2</td>\n",
              "      <td>2023-01-31 22:40:00</td>\n",
              "      <td>2023-01-31 22:48:00</td>\n",
              "      <td>10</td>\n",
              "      <td>205</td>\n",
              "      <td>2.14</td>\n",
              "      <td>4.41</td>\n",
              "      <td>0.0</td>\n",
              "      <td>0.0</td>\n",
              "      <td>0.00</td>\n",
              "      <td>0.0</td>\n",
              "      <td>1.0</td>\n",
              "      <td>5.41</td>\n",
              "    </tr>\n",
              "    <tr>\n",
              "      <th>68208</th>\n",
              "      <td>2</td>\n",
              "      <td>2023-01-31 23:46:00</td>\n",
              "      <td>2023-02-01 00:02:00</td>\n",
              "      <td>66</td>\n",
              "      <td>37</td>\n",
              "      <td>3.44</td>\n",
              "      <td>16.53</td>\n",
              "      <td>0.0</td>\n",
              "      <td>0.0</td>\n",
              "      <td>3.51</td>\n",
              "      <td>0.0</td>\n",
              "      <td>1.0</td>\n",
              "      <td>21.04</td>\n",
              "    </tr>\n",
              "    <tr>\n",
              "      <th>68209</th>\n",
              "      <td>2</td>\n",
              "      <td>2023-01-31 23:01:00</td>\n",
              "      <td>2023-01-31 23:19:00</td>\n",
              "      <td>225</td>\n",
              "      <td>189</td>\n",
              "      <td>3.03</td>\n",
              "      <td>14.98</td>\n",
              "      <td>0.0</td>\n",
              "      <td>0.0</td>\n",
              "      <td>3.20</td>\n",
              "      <td>0.0</td>\n",
              "      <td>1.0</td>\n",
              "      <td>19.18</td>\n",
              "    </tr>\n",
              "    <tr>\n",
              "      <th>68210</th>\n",
              "      <td>2</td>\n",
              "      <td>2023-01-31 23:51:00</td>\n",
              "      <td>2023-02-01 00:07:00</td>\n",
              "      <td>256</td>\n",
              "      <td>140</td>\n",
              "      <td>5.82</td>\n",
              "      <td>23.65</td>\n",
              "      <td>0.0</td>\n",
              "      <td>0.0</td>\n",
              "      <td>2.00</td>\n",
              "      <td>0.0</td>\n",
              "      <td>1.0</td>\n",
              "      <td>29.40</td>\n",
              "    </tr>\n",
              "  </tbody>\n",
              "</table>\n",
              "<p>68211 rows × 13 columns</p>\n",
              "</div>\n",
              "    <div class=\"colab-df-buttons\">\n",
              "\n",
              "  <div class=\"colab-df-container\">\n",
              "    <button class=\"colab-df-convert\" onclick=\"convertToInteractive('df-417e8ea6-7a7a-498f-84e6-7737c0004c6c')\"\n",
              "            title=\"Convert this dataframe to an interactive table.\"\n",
              "            style=\"display:none;\">\n",
              "\n",
              "  <svg xmlns=\"http://www.w3.org/2000/svg\" height=\"24px\" viewBox=\"0 -960 960 960\">\n",
              "    <path d=\"M120-120v-720h720v720H120Zm60-500h600v-160H180v160Zm220 220h160v-160H400v160Zm0 220h160v-160H400v160ZM180-400h160v-160H180v160Zm440 0h160v-160H620v160ZM180-180h160v-160H180v160Zm440 0h160v-160H620v160Z\"/>\n",
              "  </svg>\n",
              "    </button>\n",
              "\n",
              "  <style>\n",
              "    .colab-df-container {\n",
              "      display:flex;\n",
              "      gap: 12px;\n",
              "    }\n",
              "\n",
              "    .colab-df-convert {\n",
              "      background-color: #E8F0FE;\n",
              "      border: none;\n",
              "      border-radius: 50%;\n",
              "      cursor: pointer;\n",
              "      display: none;\n",
              "      fill: #1967D2;\n",
              "      height: 32px;\n",
              "      padding: 0 0 0 0;\n",
              "      width: 32px;\n",
              "    }\n",
              "\n",
              "    .colab-df-convert:hover {\n",
              "      background-color: #E2EBFA;\n",
              "      box-shadow: 0px 1px 2px rgba(60, 64, 67, 0.3), 0px 1px 3px 1px rgba(60, 64, 67, 0.15);\n",
              "      fill: #174EA6;\n",
              "    }\n",
              "\n",
              "    .colab-df-buttons div {\n",
              "      margin-bottom: 4px;\n",
              "    }\n",
              "\n",
              "    [theme=dark] .colab-df-convert {\n",
              "      background-color: #3B4455;\n",
              "      fill: #D2E3FC;\n",
              "    }\n",
              "\n",
              "    [theme=dark] .colab-df-convert:hover {\n",
              "      background-color: #434B5C;\n",
              "      box-shadow: 0px 1px 3px 1px rgba(0, 0, 0, 0.15);\n",
              "      filter: drop-shadow(0px 1px 2px rgba(0, 0, 0, 0.3));\n",
              "      fill: #FFFFFF;\n",
              "    }\n",
              "  </style>\n",
              "\n",
              "    <script>\n",
              "      const buttonEl =\n",
              "        document.querySelector('#df-417e8ea6-7a7a-498f-84e6-7737c0004c6c button.colab-df-convert');\n",
              "      buttonEl.style.display =\n",
              "        google.colab.kernel.accessAllowed ? 'block' : 'none';\n",
              "\n",
              "      async function convertToInteractive(key) {\n",
              "        const element = document.querySelector('#df-417e8ea6-7a7a-498f-84e6-7737c0004c6c');\n",
              "        const dataTable =\n",
              "          await google.colab.kernel.invokeFunction('convertToInteractive',\n",
              "                                                    [key], {});\n",
              "        if (!dataTable) return;\n",
              "\n",
              "        const docLinkHtml = 'Like what you see? Visit the ' +\n",
              "          '<a target=\"_blank\" href=https://colab.research.google.com/notebooks/data_table.ipynb>data table notebook</a>'\n",
              "          + ' to learn more about interactive tables.';\n",
              "        element.innerHTML = '';\n",
              "        dataTable['output_type'] = 'display_data';\n",
              "        await google.colab.output.renderOutput(dataTable, element);\n",
              "        const docLink = document.createElement('div');\n",
              "        docLink.innerHTML = docLinkHtml;\n",
              "        element.appendChild(docLink);\n",
              "      }\n",
              "    </script>\n",
              "  </div>\n",
              "\n",
              "\n",
              "    <div id=\"df-a12e1cb1-99ef-4e6f-ab27-6334851301bc\">\n",
              "      <button class=\"colab-df-quickchart\" onclick=\"quickchart('df-a12e1cb1-99ef-4e6f-ab27-6334851301bc')\"\n",
              "                title=\"Suggest charts\"\n",
              "                style=\"display:none;\">\n",
              "\n",
              "<svg xmlns=\"http://www.w3.org/2000/svg\" height=\"24px\"viewBox=\"0 0 24 24\"\n",
              "     width=\"24px\">\n",
              "    <g>\n",
              "        <path d=\"M19 3H5c-1.1 0-2 .9-2 2v14c0 1.1.9 2 2 2h14c1.1 0 2-.9 2-2V5c0-1.1-.9-2-2-2zM9 17H7v-7h2v7zm4 0h-2V7h2v10zm4 0h-2v-4h2v4z\"/>\n",
              "    </g>\n",
              "</svg>\n",
              "      </button>\n",
              "\n",
              "<style>\n",
              "  .colab-df-quickchart {\n",
              "      --bg-color: #E8F0FE;\n",
              "      --fill-color: #1967D2;\n",
              "      --hover-bg-color: #E2EBFA;\n",
              "      --hover-fill-color: #174EA6;\n",
              "      --disabled-fill-color: #AAA;\n",
              "      --disabled-bg-color: #DDD;\n",
              "  }\n",
              "\n",
              "  [theme=dark] .colab-df-quickchart {\n",
              "      --bg-color: #3B4455;\n",
              "      --fill-color: #D2E3FC;\n",
              "      --hover-bg-color: #434B5C;\n",
              "      --hover-fill-color: #FFFFFF;\n",
              "      --disabled-bg-color: #3B4455;\n",
              "      --disabled-fill-color: #666;\n",
              "  }\n",
              "\n",
              "  .colab-df-quickchart {\n",
              "    background-color: var(--bg-color);\n",
              "    border: none;\n",
              "    border-radius: 50%;\n",
              "    cursor: pointer;\n",
              "    display: none;\n",
              "    fill: var(--fill-color);\n",
              "    height: 32px;\n",
              "    padding: 0;\n",
              "    width: 32px;\n",
              "  }\n",
              "\n",
              "  .colab-df-quickchart:hover {\n",
              "    background-color: var(--hover-bg-color);\n",
              "    box-shadow: 0 1px 2px rgba(60, 64, 67, 0.3), 0 1px 3px 1px rgba(60, 64, 67, 0.15);\n",
              "    fill: var(--button-hover-fill-color);\n",
              "  }\n",
              "\n",
              "  .colab-df-quickchart-complete:disabled,\n",
              "  .colab-df-quickchart-complete:disabled:hover {\n",
              "    background-color: var(--disabled-bg-color);\n",
              "    fill: var(--disabled-fill-color);\n",
              "    box-shadow: none;\n",
              "  }\n",
              "\n",
              "  .colab-df-spinner {\n",
              "    border: 2px solid var(--fill-color);\n",
              "    border-color: transparent;\n",
              "    border-bottom-color: var(--fill-color);\n",
              "    animation:\n",
              "      spin 1s steps(1) infinite;\n",
              "  }\n",
              "\n",
              "  @keyframes spin {\n",
              "    0% {\n",
              "      border-color: transparent;\n",
              "      border-bottom-color: var(--fill-color);\n",
              "      border-left-color: var(--fill-color);\n",
              "    }\n",
              "    20% {\n",
              "      border-color: transparent;\n",
              "      border-left-color: var(--fill-color);\n",
              "      border-top-color: var(--fill-color);\n",
              "    }\n",
              "    30% {\n",
              "      border-color: transparent;\n",
              "      border-left-color: var(--fill-color);\n",
              "      border-top-color: var(--fill-color);\n",
              "      border-right-color: var(--fill-color);\n",
              "    }\n",
              "    40% {\n",
              "      border-color: transparent;\n",
              "      border-right-color: var(--fill-color);\n",
              "      border-top-color: var(--fill-color);\n",
              "    }\n",
              "    60% {\n",
              "      border-color: transparent;\n",
              "      border-right-color: var(--fill-color);\n",
              "    }\n",
              "    80% {\n",
              "      border-color: transparent;\n",
              "      border-right-color: var(--fill-color);\n",
              "      border-bottom-color: var(--fill-color);\n",
              "    }\n",
              "    90% {\n",
              "      border-color: transparent;\n",
              "      border-bottom-color: var(--fill-color);\n",
              "    }\n",
              "  }\n",
              "</style>\n",
              "\n",
              "      <script>\n",
              "        async function quickchart(key) {\n",
              "          const quickchartButtonEl =\n",
              "            document.querySelector('#' + key + ' button');\n",
              "          quickchartButtonEl.disabled = true;  // To prevent multiple clicks.\n",
              "          quickchartButtonEl.classList.add('colab-df-spinner');\n",
              "          try {\n",
              "            const charts = await google.colab.kernel.invokeFunction(\n",
              "                'suggestCharts', [key], {});\n",
              "          } catch (error) {\n",
              "            console.error('Error during call to suggestCharts:', error);\n",
              "          }\n",
              "          quickchartButtonEl.classList.remove('colab-df-spinner');\n",
              "          quickchartButtonEl.classList.add('colab-df-quickchart-complete');\n",
              "        }\n",
              "        (() => {\n",
              "          let quickchartButtonEl =\n",
              "            document.querySelector('#df-a12e1cb1-99ef-4e6f-ab27-6334851301bc button');\n",
              "          quickchartButtonEl.style.display =\n",
              "            google.colab.kernel.accessAllowed ? 'block' : 'none';\n",
              "        })();\n",
              "      </script>\n",
              "    </div>\n",
              "\n",
              "    </div>\n",
              "  </div>\n"
            ],
            "text/plain": [
              "       VendorID lpep_pickup_datetime lpep_dropoff_datetime  PULocationID  \\\n",
              "0             2  2023-01-01 00:26:10   2023-01-01 00:37:11           166   \n",
              "1             2  2023-01-01 00:51:03   2023-01-01 00:57:49            24   \n",
              "2             2  2023-01-01 00:35:12   2023-01-01 00:41:32           223   \n",
              "3             1  2023-01-01 00:13:14   2023-01-01 00:19:03            41   \n",
              "4             1  2023-01-01 00:33:04   2023-01-01 00:39:02            41   \n",
              "...         ...                  ...                   ...           ...   \n",
              "68206         2  2023-01-31 22:29:00   2023-01-31 22:42:00            49   \n",
              "68207         2  2023-01-31 22:40:00   2023-01-31 22:48:00            10   \n",
              "68208         2  2023-01-31 23:46:00   2023-02-01 00:02:00            66   \n",
              "68209         2  2023-01-31 23:01:00   2023-01-31 23:19:00           225   \n",
              "68210         2  2023-01-31 23:51:00   2023-02-01 00:07:00           256   \n",
              "\n",
              "       DOLocationID  trip_distance  fare_amount  extra  mta_tax  tip_amount  \\\n",
              "0               143           2.58        14.90    1.0      0.5        4.03   \n",
              "1                43           1.81        10.70    1.0      0.5        2.64   \n",
              "2               179           0.00         7.20    1.0      0.5        1.94   \n",
              "3               238           1.30         6.50    0.5      1.5        1.70   \n",
              "4                74           1.10         6.00    0.5      1.5        0.00   \n",
              "...             ...            ...          ...    ...      ...         ...   \n",
              "68206            62        4070.82        15.70    0.0      0.0        0.00   \n",
              "68207           205           2.14         4.41    0.0      0.0        0.00   \n",
              "68208            37           3.44        16.53    0.0      0.0        3.51   \n",
              "68209           189           3.03        14.98    0.0      0.0        3.20   \n",
              "68210           140           5.82        23.65    0.0      0.0        2.00   \n",
              "\n",
              "       tolls_amount  improvement_surcharge  total_amount  \n",
              "0               0.0                    1.0         24.18  \n",
              "1               0.0                    1.0         15.84  \n",
              "2               0.0                    1.0         11.64  \n",
              "3               0.0                    1.0         10.20  \n",
              "4               0.0                    1.0          8.00  \n",
              "...             ...                    ...           ...  \n",
              "68206           0.0                    1.0         16.70  \n",
              "68207           0.0                    1.0          5.41  \n",
              "68208           0.0                    1.0         21.04  \n",
              "68209           0.0                    1.0         19.18  \n",
              "68210           0.0                    1.0         29.40  \n",
              "\n",
              "[68211 rows x 13 columns]"
            ]
          },
          "execution_count": 7,
          "metadata": {},
          "output_type": "execute_result"
        }
      ],
      "source": [
        "df_cleaned=df.dropna()\n",
        "df.dropna(axis=1)"
      ]
    },
    {
      "cell_type": "code",
      "execution_count": null,
      "metadata": {
        "colab": {
          "base_uri": "https://localhost:8080/"
        },
        "id": "xfPA0SVa_VZw",
        "outputId": "fb954931-e6ab-48ee-8515-d07f66894989"
      },
      "outputs": [
        {
          "data": {
            "text/plain": [
              "Index(['store_and_fwd_flag', 'RatecodeID', 'passenger_count', 'ehail_fee',\n",
              "       'payment_type', 'trip_type', 'congestion_surcharge'],\n",
              "      dtype='object')"
            ]
          },
          "execution_count": 8,
          "metadata": {},
          "output_type": "execute_result"
        }
      ],
      "source": [
        "# Show Columns With Missing Values\n",
        "df.columns[df.isnull().any()]"
      ]
    },
    {
      "cell_type": "code",
      "execution_count": null,
      "metadata": {
        "colab": {
          "base_uri": "https://localhost:8080/",
          "height": 303
        },
        "id": "G2xCAiLG_84V",
        "outputId": "6d329738-aee9-45d6-e7bd-7c82da273152"
      },
      "outputs": [
        {
          "data": {
            "text/html": [
              "<div>\n",
              "<style scoped>\n",
              "    .dataframe tbody tr th:only-of-type {\n",
              "        vertical-align: middle;\n",
              "    }\n",
              "\n",
              "    .dataframe tbody tr th {\n",
              "        vertical-align: top;\n",
              "    }\n",
              "\n",
              "    .dataframe thead th {\n",
              "        text-align: right;\n",
              "    }\n",
              "</style>\n",
              "<table border=\"1\" class=\"dataframe\">\n",
              "  <thead>\n",
              "    <tr style=\"text-align: right;\">\n",
              "      <th></th>\n",
              "      <th>0</th>\n",
              "    </tr>\n",
              "  </thead>\n",
              "  <tbody>\n",
              "    <tr>\n",
              "      <th>store_and_fwd_flag</th>\n",
              "      <td>4324</td>\n",
              "    </tr>\n",
              "    <tr>\n",
              "      <th>RatecodeID</th>\n",
              "      <td>4324</td>\n",
              "    </tr>\n",
              "    <tr>\n",
              "      <th>passenger_count</th>\n",
              "      <td>4324</td>\n",
              "    </tr>\n",
              "    <tr>\n",
              "      <th>ehail_fee</th>\n",
              "      <td>68211</td>\n",
              "    </tr>\n",
              "    <tr>\n",
              "      <th>payment_type</th>\n",
              "      <td>4324</td>\n",
              "    </tr>\n",
              "    <tr>\n",
              "      <th>trip_type</th>\n",
              "      <td>4334</td>\n",
              "    </tr>\n",
              "    <tr>\n",
              "      <th>congestion_surcharge</th>\n",
              "      <td>4324</td>\n",
              "    </tr>\n",
              "  </tbody>\n",
              "</table>\n",
              "</div><br><label><b>dtype:</b> int64</label>"
            ],
            "text/plain": [
              "store_and_fwd_flag       4324\n",
              "RatecodeID               4324\n",
              "passenger_count          4324\n",
              "ehail_fee               68211\n",
              "payment_type             4324\n",
              "trip_type                4334\n",
              "congestion_surcharge     4324\n",
              "dtype: int64"
            ]
          },
          "execution_count": 9,
          "metadata": {},
          "output_type": "execute_result"
        }
      ],
      "source": [
        "df.isnull().sum()[df.isnull().sum()>0]"
      ]
    },
    {
      "cell_type": "code",
      "execution_count": null,
      "metadata": {
        "colab": {
          "base_uri": "https://localhost:8080/",
          "height": 303
        },
        "id": "1o4N3FDsALmu",
        "outputId": "e22340b3-d273-48ba-abf8-b431591e85a5"
      },
      "outputs": [
        {
          "data": {
            "text/html": [
              "<div>\n",
              "<style scoped>\n",
              "    .dataframe tbody tr th:only-of-type {\n",
              "        vertical-align: middle;\n",
              "    }\n",
              "\n",
              "    .dataframe tbody tr th {\n",
              "        vertical-align: top;\n",
              "    }\n",
              "\n",
              "    .dataframe thead th {\n",
              "        text-align: right;\n",
              "    }\n",
              "</style>\n",
              "<table border=\"1\" class=\"dataframe\">\n",
              "  <thead>\n",
              "    <tr style=\"text-align: right;\">\n",
              "      <th></th>\n",
              "      <th>0</th>\n",
              "    </tr>\n",
              "  </thead>\n",
              "  <tbody>\n",
              "    <tr>\n",
              "      <th>store_and_fwd_flag</th>\n",
              "      <td>6.339154</td>\n",
              "    </tr>\n",
              "    <tr>\n",
              "      <th>RatecodeID</th>\n",
              "      <td>6.339154</td>\n",
              "    </tr>\n",
              "    <tr>\n",
              "      <th>passenger_count</th>\n",
              "      <td>6.339154</td>\n",
              "    </tr>\n",
              "    <tr>\n",
              "      <th>ehail_fee</th>\n",
              "      <td>100.000000</td>\n",
              "    </tr>\n",
              "    <tr>\n",
              "      <th>payment_type</th>\n",
              "      <td>6.339154</td>\n",
              "    </tr>\n",
              "    <tr>\n",
              "      <th>trip_type</th>\n",
              "      <td>6.353814</td>\n",
              "    </tr>\n",
              "    <tr>\n",
              "      <th>congestion_surcharge</th>\n",
              "      <td>6.339154</td>\n",
              "    </tr>\n",
              "  </tbody>\n",
              "</table>\n",
              "</div><br><label><b>dtype:</b> float64</label>"
            ],
            "text/plain": [
              "store_and_fwd_flag        6.339154\n",
              "RatecodeID                6.339154\n",
              "passenger_count           6.339154\n",
              "ehail_fee               100.000000\n",
              "payment_type              6.339154\n",
              "trip_type                 6.353814\n",
              "congestion_surcharge      6.339154\n",
              "dtype: float64"
            ]
          },
          "execution_count": 10,
          "metadata": {},
          "output_type": "execute_result"
        }
      ],
      "source": [
        "# percentage of missing values in columns of missing values\n",
        "df.isnull().mean()[df.isnull().sum()>0]*100"
      ]
    },
    {
      "cell_type": "code",
      "execution_count": 4,
      "metadata": {
        "colab": {
          "base_uri": "https://localhost:8080/"
        },
        "id": "dliMpMXnBpjI",
        "outputId": "17b230db-141d-48f6-afcc-cc830ea43ef5"
      },
      "outputs": [
        {
          "name": "stderr",
          "output_type": "stream",
          "text": [
            "C:\\Users\\Eric\\AppData\\Local\\Temp\\ipykernel_29468\\132539976.py:7: FutureWarning: A value is trying to be set on a copy of a DataFrame or Series through chained assignment using an inplace method.\n",
            "The behavior will change in pandas 3.0. This inplace method will never work because the intermediate object on which we are setting values always behaves as a copy.\n",
            "\n",
            "For example, when doing 'df[col].method(value, inplace=True)', try using 'df.method({col: value}, inplace=True)' or df[col] = df[col].method(value) instead, to perform the operation inplace on the original object.\n",
            "\n",
            "\n",
            "  df[column].fillna(df[column].mode()[0], inplace=True)\n",
            "C:\\Users\\Eric\\AppData\\Local\\Temp\\ipykernel_29468\\132539976.py:5: FutureWarning: A value is trying to be set on a copy of a DataFrame or Series through chained assignment using an inplace method.\n",
            "The behavior will change in pandas 3.0. This inplace method will never work because the intermediate object on which we are setting values always behaves as a copy.\n",
            "\n",
            "For example, when doing 'df[col].method(value, inplace=True)', try using 'df.method({col: value}, inplace=True)' or df[col] = df[col].method(value) instead, to perform the operation inplace on the original object.\n",
            "\n",
            "\n",
            "  df[column].fillna(df[column].mean(), inplace=True)  # use median() if needed\n"
          ]
        }
      ],
      "source": [
        "# Fill Missing Values Of Columns With Mean For Int / float And fill most frequent value for string dtype\n",
        "for column in df.columns:\n",
        "    if df[column].isnull().any():\n",
        "        if df[column].dtype == 'float64' or df[column].dtype == 'int64':\n",
        "            df[column].fillna(df[column].mean(), inplace=True)  # use median() if needed\n",
        "        elif df[column].dtype == 'object':\n",
        "            df[column].fillna(df[column].mode()[0], inplace=True)"
      ]
    },
    {
      "cell_type": "code",
      "execution_count": 5,
      "metadata": {
        "colab": {
          "base_uri": "https://localhost:8080/",
          "height": 711
        },
        "id": "ztjkNeHiBsF7",
        "outputId": "cdbde6a6-26a1-45b6-d7cf-984dfd28c0fa"
      },
      "outputs": [
        {
          "data": {
            "application/vnd.microsoft.datawrangler.viewer.v0+json": {
              "columns": [
                {
                  "name": "index",
                  "rawType": "object",
                  "type": "string"
                },
                {
                  "name": "0",
                  "rawType": "int64",
                  "type": "integer"
                }
              ],
              "ref": "e808735a-f39b-47ae-9963-ee598404d269",
              "rows": [
                [
                  "VendorID",
                  "0"
                ],
                [
                  "lpep_pickup_datetime",
                  "0"
                ],
                [
                  "lpep_dropoff_datetime",
                  "0"
                ],
                [
                  "store_and_fwd_flag",
                  "0"
                ],
                [
                  "RatecodeID",
                  "0"
                ],
                [
                  "PULocationID",
                  "0"
                ],
                [
                  "DOLocationID",
                  "0"
                ],
                [
                  "passenger_count",
                  "0"
                ],
                [
                  "trip_distance",
                  "0"
                ],
                [
                  "fare_amount",
                  "0"
                ],
                [
                  "extra",
                  "0"
                ],
                [
                  "mta_tax",
                  "0"
                ],
                [
                  "tip_amount",
                  "0"
                ],
                [
                  "tolls_amount",
                  "0"
                ],
                [
                  "ehail_fee",
                  "68211"
                ],
                [
                  "improvement_surcharge",
                  "0"
                ],
                [
                  "total_amount",
                  "0"
                ],
                [
                  "payment_type",
                  "0"
                ],
                [
                  "trip_type",
                  "0"
                ],
                [
                  "congestion_surcharge",
                  "0"
                ]
              ],
              "shape": {
                "columns": 1,
                "rows": 20
              }
            },
            "text/plain": [
              "VendorID                     0\n",
              "lpep_pickup_datetime         0\n",
              "lpep_dropoff_datetime        0\n",
              "store_and_fwd_flag           0\n",
              "RatecodeID                   0\n",
              "PULocationID                 0\n",
              "DOLocationID                 0\n",
              "passenger_count              0\n",
              "trip_distance                0\n",
              "fare_amount                  0\n",
              "extra                        0\n",
              "mta_tax                      0\n",
              "tip_amount                   0\n",
              "tolls_amount                 0\n",
              "ehail_fee                68211\n",
              "improvement_surcharge        0\n",
              "total_amount                 0\n",
              "payment_type                 0\n",
              "trip_type                    0\n",
              "congestion_surcharge         0\n",
              "dtype: int64"
            ]
          },
          "execution_count": 5,
          "metadata": {},
          "output_type": "execute_result"
        }
      ],
      "source": [
        "df.isnull().sum()"
      ]
    },
    {
      "cell_type": "markdown",
      "metadata": {
        "id": "L9NinGHUNJxu"
      },
      "source": [
        "Replacing Nan Value of ehail_fee to 0"
      ]
    },
    {
      "cell_type": "code",
      "execution_count": 6,
      "metadata": {
        "colab": {
          "base_uri": "https://localhost:8080/",
          "height": 84
        },
        "id": "MGBeLD1zCQa7",
        "outputId": "ca8d23ec-c080-4ed5-a457-521a20b12ede"
      },
      "outputs": [
        {
          "data": {
            "application/vnd.microsoft.datawrangler.viewer.v0+json": {
              "columns": [
                {
                  "name": "index",
                  "rawType": "object",
                  "type": "string"
                },
                {
                  "name": "0",
                  "rawType": "int64",
                  "type": "integer"
                }
              ],
              "ref": "7746869a-f940-4a4b-aa3f-019bd867932a",
              "rows": [
                [
                  "ehail_fee",
                  "68211"
                ]
              ],
              "shape": {
                "columns": 1,
                "rows": 1
              }
            },
            "text/plain": [
              "ehail_fee    68211\n",
              "dtype: int64"
            ]
          },
          "execution_count": 6,
          "metadata": {},
          "output_type": "execute_result"
        }
      ],
      "source": [
        "df.isnull().sum()[df.isnull().sum()>0]"
      ]
    },
    {
      "cell_type": "code",
      "execution_count": 7,
      "metadata": {
        "id": "uZI4m19RGbBr"
      },
      "outputs": [
        {
          "name": "stderr",
          "output_type": "stream",
          "text": [
            "C:\\Users\\Eric\\AppData\\Local\\Temp\\ipykernel_29468\\3366504430.py:1: FutureWarning: A value is trying to be set on a copy of a DataFrame or Series through chained assignment using an inplace method.\n",
            "The behavior will change in pandas 3.0. This inplace method will never work because the intermediate object on which we are setting values always behaves as a copy.\n",
            "\n",
            "For example, when doing 'df[col].method(value, inplace=True)', try using 'df.method({col: value}, inplace=True)' or df[col] = df[col].method(value) instead, to perform the operation inplace on the original object.\n",
            "\n",
            "\n",
            "  df[\"ehail_fee\"].fillna(0,inplace=True)\n"
          ]
        }
      ],
      "source": [
        "df[\"ehail_fee\"].fillna(0,inplace=True)\n",
        "# Replace Nan Value To 0"
      ]
    },
    {
      "cell_type": "code",
      "execution_count": 29,
      "metadata": {
        "colab": {
          "base_uri": "https://localhost:8080/",
          "height": 84
        },
        "id": "7VONRKz2GsDv",
        "outputId": "e769e628-be30-468a-dd45-67fa32411881"
      },
      "outputs": [
        {
          "data": {
            "application/vnd.microsoft.datawrangler.viewer.v0+json": {
              "columns": [
                {
                  "name": "index",
                  "rawType": "object",
                  "type": "string"
                },
                {
                  "name": "0",
                  "rawType": "int64",
                  "type": "integer"
                }
              ],
              "ref": "b8d5ad9f-5a69-42b3-806c-5535369d4c5c",
              "rows": [
                [
                  "ehail_fee",
                  "999"
                ]
              ],
              "shape": {
                "columns": 1,
                "rows": 1
              }
            },
            "text/plain": [
              "ehail_fee    999\n",
              "dtype: int64"
            ]
          },
          "execution_count": 29,
          "metadata": {},
          "output_type": "execute_result"
        }
      ],
      "source": [
        "df.isnull().sum()[df.isnull().sum()>0]\n",
        "# menunjukkan bahwa semua column sudah terisi Dan tidak terdapat missing value"
      ]
    },
    {
      "cell_type": "code",
      "execution_count": 30,
      "metadata": {
        "colab": {
          "base_uri": "https://localhost:8080/",
          "height": 458
        },
        "id": "Czrt-Z42GFAh",
        "outputId": "1391e5cb-3505-494a-b88d-8d0a93d2a89c"
      },
      "outputs": [
        {
          "data": {
            "application/vnd.microsoft.datawrangler.viewer.v0+json": {
              "columns": [
                {
                  "name": "index",
                  "rawType": "int64",
                  "type": "integer"
                },
                {
                  "name": "ehail_fee",
                  "rawType": "float64",
                  "type": "float"
                }
              ],
              "ref": "6bb7afba-4bc6-4e65-8a4b-dbdb286944b2",
              "rows": [
                [
                  "0",
                  null
                ],
                [
                  "1",
                  null
                ],
                [
                  "2",
                  null
                ],
                [
                  "3",
                  null
                ],
                [
                  "4",
                  null
                ],
                [
                  "5",
                  null
                ],
                [
                  "6",
                  null
                ],
                [
                  "7",
                  null
                ],
                [
                  "8",
                  null
                ],
                [
                  "9",
                  null
                ],
                [
                  "10",
                  null
                ],
                [
                  "11",
                  null
                ],
                [
                  "12",
                  null
                ],
                [
                  "13",
                  null
                ],
                [
                  "14",
                  null
                ],
                [
                  "15",
                  null
                ],
                [
                  "16",
                  null
                ],
                [
                  "17",
                  null
                ],
                [
                  "18",
                  null
                ],
                [
                  "19",
                  null
                ],
                [
                  "20",
                  null
                ],
                [
                  "21",
                  null
                ],
                [
                  "22",
                  null
                ],
                [
                  "23",
                  null
                ],
                [
                  "24",
                  null
                ],
                [
                  "25",
                  null
                ],
                [
                  "26",
                  null
                ],
                [
                  "27",
                  null
                ],
                [
                  "28",
                  null
                ],
                [
                  "29",
                  null
                ],
                [
                  "30",
                  null
                ],
                [
                  "31",
                  null
                ],
                [
                  "32",
                  null
                ],
                [
                  "33",
                  null
                ],
                [
                  "34",
                  null
                ],
                [
                  "35",
                  null
                ],
                [
                  "36",
                  null
                ],
                [
                  "37",
                  null
                ],
                [
                  "38",
                  null
                ],
                [
                  "39",
                  null
                ],
                [
                  "40",
                  null
                ],
                [
                  "41",
                  null
                ],
                [
                  "42",
                  null
                ],
                [
                  "43",
                  null
                ],
                [
                  "44",
                  null
                ],
                [
                  "45",
                  null
                ],
                [
                  "46",
                  null
                ],
                [
                  "47",
                  null
                ],
                [
                  "48",
                  null
                ],
                [
                  "49",
                  null
                ]
              ],
              "shape": {
                "columns": 1,
                "rows": 999
              }
            },
            "text/plain": [
              "0     NaN\n",
              "1     NaN\n",
              "2     NaN\n",
              "3     NaN\n",
              "4     NaN\n",
              "       ..\n",
              "994   NaN\n",
              "995   NaN\n",
              "996   NaN\n",
              "997   NaN\n",
              "998   NaN\n",
              "Name: ehail_fee, Length: 999, dtype: float64"
            ]
          },
          "execution_count": 30,
          "metadata": {},
          "output_type": "execute_result"
        }
      ],
      "source": [
        "\n",
        "df[\"ehail_fee\"]"
      ]
    },
    {
      "cell_type": "markdown",
      "metadata": {
        "id": "tvjSfrkHNObd"
      },
      "source": []
    },
    {
      "cell_type": "markdown",
      "metadata": {
        "id": "eSV2zF_c6BtJ"
      },
      "source": [
        "<h4>Convert Data types of datetime</h4>"
      ]
    },
    {
      "cell_type": "code",
      "execution_count": 10,
      "metadata": {
        "id": "R-gj6-cd8ta6"
      },
      "outputs": [],
      "source": [
        "#  Convert datetime fields\n",
        "df['lpep_pickup_datetime'] = pd.to_datetime(df['lpep_pickup_datetime'])\n",
        "df['lpep_dropoff_datetime'] = pd.to_datetime(df['lpep_dropoff_datetime'])"
      ]
    },
    {
      "cell_type": "code",
      "execution_count": 11,
      "metadata": {
        "colab": {
          "base_uri": "https://localhost:8080/",
          "height": 458
        },
        "id": "uOLJ4YlP86ap",
        "outputId": "d68ca502-f3c8-4b77-8635-fdff439cc7e4"
      },
      "outputs": [
        {
          "data": {
            "application/vnd.microsoft.datawrangler.viewer.v0+json": {
              "columns": [
                {
                  "name": "index",
                  "rawType": "int64",
                  "type": "integer"
                },
                {
                  "name": "lpep_pickup_datetime",
                  "rawType": "datetime64[ns]",
                  "type": "datetime"
                }
              ],
              "ref": "daa235f1-f2e9-4b07-9eda-032ac7cf8dbd",
              "rows": [
                [
                  "0",
                  "2023-01-01 00:26:10"
                ],
                [
                  "1",
                  "2023-01-01 00:51:03"
                ],
                [
                  "2",
                  "2023-01-01 00:35:12"
                ],
                [
                  "3",
                  "2023-01-01 00:13:14"
                ],
                [
                  "4",
                  "2023-01-01 00:33:04"
                ],
                [
                  "5",
                  "2023-01-01 00:53:31"
                ],
                [
                  "6",
                  "2023-01-01 00:09:14"
                ],
                [
                  "7",
                  "2023-01-01 00:11:58"
                ],
                [
                  "8",
                  "2023-01-01 00:41:29"
                ],
                [
                  "9",
                  "2023-01-01 00:50:32"
                ],
                [
                  "10",
                  "2023-01-01 00:16:12"
                ],
                [
                  "11",
                  "2023-01-01 00:08:43"
                ],
                [
                  "12",
                  "2023-01-01 00:26:32"
                ],
                [
                  "13",
                  "2023-01-01 00:18:35"
                ],
                [
                  "14",
                  "2023-01-01 00:39:32"
                ],
                [
                  "15",
                  "2023-01-01 00:49:34"
                ],
                [
                  "16",
                  "2023-01-01 00:10:45"
                ],
                [
                  "17",
                  "2023-01-01 00:35:11"
                ],
                [
                  "18",
                  "2023-01-01 00:31:06"
                ],
                [
                  "19",
                  "2023-01-01 00:14:37"
                ],
                [
                  "20",
                  "2023-01-01 00:26:21"
                ],
                [
                  "21",
                  "2023-01-01 00:41:56"
                ],
                [
                  "22",
                  "2023-01-01 00:32:02"
                ],
                [
                  "23",
                  "2023-01-01 00:55:13"
                ],
                [
                  "24",
                  "2023-01-01 00:01:31"
                ],
                [
                  "25",
                  "2023-01-01 00:22:31"
                ],
                [
                  "26",
                  "2023-01-01 00:57:28"
                ],
                [
                  "27",
                  "2023-01-01 00:35:21"
                ],
                [
                  "28",
                  "2023-01-01 00:52:52"
                ],
                [
                  "29",
                  "2023-01-01 00:32:56"
                ],
                [
                  "30",
                  "2023-01-01 00:24:01"
                ],
                [
                  "31",
                  "2023-01-01 00:46:48"
                ],
                [
                  "32",
                  "2023-01-01 00:40:58"
                ],
                [
                  "33",
                  "2023-01-01 00:20:23"
                ],
                [
                  "34",
                  "2023-01-01 01:49:24"
                ],
                [
                  "35",
                  "2023-01-01 00:41:53"
                ],
                [
                  "36",
                  "2023-01-01 00:56:26"
                ],
                [
                  "37",
                  "2023-01-01 00:33:10"
                ],
                [
                  "38",
                  "2023-01-01 00:58:28"
                ],
                [
                  "39",
                  "2023-01-01 00:42:49"
                ],
                [
                  "40",
                  "2023-01-01 00:48:21"
                ],
                [
                  "41",
                  "2023-01-01 00:08:05"
                ],
                [
                  "42",
                  "2023-01-01 00:13:47"
                ],
                [
                  "43",
                  "2023-01-01 00:16:10"
                ],
                [
                  "44",
                  "2023-01-01 00:04:25"
                ],
                [
                  "45",
                  "2023-01-01 00:33:38"
                ],
                [
                  "46",
                  "2023-01-01 00:46:08"
                ],
                [
                  "47",
                  "2023-01-01 01:00:08"
                ],
                [
                  "48",
                  "2023-01-01 00:28:04"
                ],
                [
                  "49",
                  "2023-01-01 00:23:04"
                ]
              ],
              "shape": {
                "columns": 1,
                "rows": 68211
              }
            },
            "text/plain": [
              "0       2023-01-01 00:26:10\n",
              "1       2023-01-01 00:51:03\n",
              "2       2023-01-01 00:35:12\n",
              "3       2023-01-01 00:13:14\n",
              "4       2023-01-01 00:33:04\n",
              "                ...        \n",
              "68206   2023-01-31 22:29:00\n",
              "68207   2023-01-31 22:40:00\n",
              "68208   2023-01-31 23:46:00\n",
              "68209   2023-01-31 23:01:00\n",
              "68210   2023-01-31 23:51:00\n",
              "Name: lpep_pickup_datetime, Length: 68211, dtype: datetime64[ns]"
            ]
          },
          "execution_count": 11,
          "metadata": {},
          "output_type": "execute_result"
        }
      ],
      "source": [
        "df[\"lpep_pickup_datetime\"]"
      ]
    },
    {
      "cell_type": "markdown",
      "metadata": {
        "id": "HDS4pOBA9BbJ"
      },
      "source": [
        "Create Trip Duration In Minutes"
      ]
    },
    {
      "cell_type": "code",
      "execution_count": 12,
      "metadata": {
        "id": "D-KYQ_7_9Lmw"
      },
      "outputs": [],
      "source": [
        "df['trip_duration_min'] = (df['lpep_dropoff_datetime'] - df['lpep_pickup_datetime']).dt.total_seconds() / 6"
      ]
    },
    {
      "cell_type": "code",
      "execution_count": 13,
      "metadata": {
        "colab": {
          "base_uri": "https://localhost:8080/",
          "height": 458
        },
        "id": "c9NSJyEt-NE9",
        "outputId": "9e4fdd13-7735-4fb6-e3e2-10ba006cf42a"
      },
      "outputs": [
        {
          "data": {
            "application/vnd.microsoft.datawrangler.viewer.v0+json": {
              "columns": [
                {
                  "name": "index",
                  "rawType": "int64",
                  "type": "integer"
                },
                {
                  "name": "trip_duration_min",
                  "rawType": "float64",
                  "type": "float"
                }
              ],
              "ref": "65abf690-e536-4529-8646-61b100c2679b",
              "rows": [
                [
                  "0",
                  "110.16666666666667"
                ],
                [
                  "1",
                  "67.66666666666667"
                ],
                [
                  "2",
                  "63.333333333333336"
                ],
                [
                  "3",
                  "58.166666666666664"
                ],
                [
                  "4",
                  "59.666666666666664"
                ],
                [
                  "5",
                  "175.5"
                ],
                [
                  "6",
                  "174.16666666666666"
                ],
                [
                  "7",
                  "129.5"
                ],
                [
                  "8",
                  "49.5"
                ],
                [
                  "9",
                  "231.66666666666666"
                ],
                [
                  "10",
                  "255.16666666666666"
                ],
                [
                  "11",
                  "84.16666666666667"
                ],
                [
                  "12",
                  "189.83333333333334"
                ],
                [
                  "13",
                  "115.66666666666667"
                ],
                [
                  "14",
                  "385.6666666666667"
                ],
                [
                  "15",
                  "188.16666666666666"
                ],
                [
                  "16",
                  "88.66666666666667"
                ],
                [
                  "17",
                  "424.0"
                ],
                [
                  "18",
                  "112.83333333333333"
                ],
                [
                  "19",
                  "72.16666666666667"
                ],
                [
                  "20",
                  "40.833333333333336"
                ],
                [
                  "21",
                  "41.666666666666664"
                ],
                [
                  "22",
                  "93.83333333333333"
                ],
                [
                  "23",
                  "45.666666666666664"
                ],
                [
                  "24",
                  "145.16666666666666"
                ],
                [
                  "25",
                  "168.83333333333334"
                ],
                [
                  "26",
                  "120.5"
                ],
                [
                  "27",
                  "184.66666666666666"
                ],
                [
                  "28",
                  "80.16666666666667"
                ],
                [
                  "29",
                  "99.5"
                ],
                [
                  "30",
                  "80.66666666666667"
                ],
                [
                  "31",
                  "214.83333333333334"
                ],
                [
                  "32",
                  "235.66666666666666"
                ],
                [
                  "33",
                  "41.5"
                ],
                [
                  "34",
                  "84.5"
                ],
                [
                  "35",
                  "0.8333333333333334"
                ],
                [
                  "36",
                  "182.5"
                ],
                [
                  "37",
                  "99.66666666666667"
                ],
                [
                  "38",
                  "163.0"
                ],
                [
                  "39",
                  "90.66666666666667"
                ],
                [
                  "40",
                  "354.8333333333333"
                ],
                [
                  "41",
                  "53.5"
                ],
                [
                  "42",
                  "121.66666666666667"
                ],
                [
                  "43",
                  "387.5"
                ],
                [
                  "44",
                  "134.16666666666666"
                ],
                [
                  "45",
                  "52.166666666666664"
                ],
                [
                  "46",
                  "130.33333333333334"
                ],
                [
                  "47",
                  "56.333333333333336"
                ],
                [
                  "48",
                  "156.83333333333334"
                ],
                [
                  "49",
                  "13754.666666666666"
                ]
              ],
              "shape": {
                "columns": 1,
                "rows": 68211
              }
            },
            "text/plain": [
              "0        110.166667\n",
              "1         67.666667\n",
              "2         63.333333\n",
              "3         58.166667\n",
              "4         59.666667\n",
              "            ...    \n",
              "68206    130.000000\n",
              "68207     80.000000\n",
              "68208    160.000000\n",
              "68209    180.000000\n",
              "68210    160.000000\n",
              "Name: trip_duration_min, Length: 68211, dtype: float64"
            ]
          },
          "execution_count": 13,
          "metadata": {},
          "output_type": "execute_result"
        }
      ],
      "source": [
        "df[\"trip_duration_min\"]"
      ]
    },
    {
      "cell_type": "code",
      "execution_count": null,
      "metadata": {
        "colab": {
          "base_uri": "https://localhost:8080/",
          "height": 458
        },
        "id": "JnWirD6dChNF",
        "outputId": "bbbac8a9-2999-41e2-ecad-01062ccb28ed"
      },
      "outputs": [
        {
          "data": {
            "image/png": "[encoded data removed]",
            "text/plain": [
              "<Figure size 1200x800 with 1 Axes>"
            ]
          },
          "metadata": {},
          "output_type": "display_data"
        }
      ],
      "source": [
        "import numpy as np\n",
        "import matplotlib.pyplot as plt\n",
        "import seaborn as sns\n",
        "\n",
        "# Define better bins\n",
        "bins = np.arange(0, df[\"trip_duration_min\"].max() + 5, 5)\n",
        "\n",
        "# Create a larger, properly adjusted figure\n",
        "plt.figure(figsize=(12, 8))\n",
        "sns.histplot(df[\"trip_duration_min\"], bins=bins, kde=True, edgecolor='black', alpha=0.7)\n",
        "\n",
        "# Adjust axes to prevent overcrowding\n",
        "plt.xlim(0, 500)  # Limit trip duration range\n",
        "plt.xticks(np.arange(0, 500, 50))  # Keep x-axis labels manageable\n",
        "plt.ylim(0, 500)  # Prevent the y-axis from overflowing\n",
        "\n",
        "# Labels and grid for clarity\n",
        "plt.xlabel(\"Trip Duration (minutes)\", fontsize=14)\n",
        "plt.ylabel(\"Frequency\", fontsize=14)\n",
        "plt.title(\"Refined Histogram with Adjusted Axes\", fontsize=16)\n",
        "plt.grid(True, linestyle='--', alpha=0.6)\n",
        "\n",
        "plt.show()"
      ]
    },
    {
      "cell_type": "markdown",
      "metadata": {
        "id": "yC9CioPLMa8f"
      },
      "source": [
        "objectives:\n",
        "1. Find The Crowd Area Places To Taxi & Limousine To Stay At Ordinary Peak Hours\n",
        "2. Find Best Hours To Stay At Some Area"
      ]
    },
    {
      "cell_type": "markdown",
      "metadata": {
        "id": "WAMOaJFrMqBZ"
      },
      "source": []
    },
    {
      "cell_type": "code",
      "execution_count": 14,
      "metadata": {
        "id": "ELB1D7tOMDKz"
      },
      "outputs": [],
      "source": [
        "# Extract hour and day from pickup timestamp\n",
        "df['pickup_hour'] = df['lpep_pickup_datetime'].dt.hour\n",
        "df['pickup_day'] = df['lpep_pickup_datetime'].dt.day_name()\n"
      ]
    },
    {
      "cell_type": "code",
      "execution_count": 15,
      "metadata": {
        "colab": {
          "base_uri": "https://localhost:8080/"
        },
        "id": "1yAWZavLMua9",
        "outputId": "e7f38c0b-d97c-4d57-f7b5-08d9c3853130"
      },
      "outputs": [
        {
          "name": "stdout",
          "output_type": "stream",
          "text": [
            "Top 10 Pickup Locations:\n",
            "PULocationID\n",
            "74     13257\n",
            "75      9109\n",
            "41      4058\n",
            "166     3879\n",
            "95      3839\n",
            "82      2927\n",
            "43      2868\n",
            "97      2195\n",
            "7       1965\n",
            "244     1804\n",
            "Name: count, dtype: int64\n"
          ]
        }
      ],
      "source": [
        "# 2. Identify Top Pickup Locations\n",
        "\n",
        "pickup_counts = df['PULocationID'].value_counts().head(10)\n",
        "print(\"Top 10 Pickup Locations:\")\n",
        "print(pickup_counts)"
      ]
    },
    {
      "cell_type": "code",
      "execution_count": 16,
      "metadata": {
        "colab": {
          "base_uri": "https://localhost:8080/"
        },
        "id": "KF9xlg3xM45A",
        "outputId": "b69e2691-d9e0-4ed9-bd44-9ce3ed8b7b77"
      },
      "outputs": [
        {
          "name": "stdout",
          "output_type": "stream",
          "text": [
            "      PULocationID  pickup_hour  pickup_count\n",
            "799             74            7          1163\n",
            "833             75           17           932\n",
            "398             41           15           381\n",
            "930             82           18           367\n",
            "1664           166           15           367\n",
            "1081            95           15           330\n",
            "445             43           17           325\n",
            "1106            97           18           232\n",
            "678             65           17           182\n",
            "2609           260           18           165\n"
          ]
        }
      ],
      "source": [
        "# Group by location and hour\n",
        "pickup_by_location_hour = df.groupby(['PULocationID', 'pickup_hour']).size().reset_index(name='pickup_count')\n",
        "\n",
        "# Find the hour with highest pickups per location\n",
        "best_times = pickup_by_location_hour.loc[pickup_by_location_hour.groupby('PULocationID')['pickup_count'].idxmax()]\n",
        "best_times = best_times.sort_values(by='pickup_count', ascending=False)\n",
        "print(best_times.head(10))  # Top 10 most active time/place combos\n"
      ]
    },
    {
      "cell_type": "code",
      "execution_count": 17,
      "metadata": {
        "colab": {
          "base_uri": "https://localhost:8080/",
          "height": 472
        },
        "id": "8OxCWiDINA03",
        "outputId": "4e4012a6-025a-44df-a7b7-ff5843d32d8a"
      },
      "outputs": [
        {
          "data": {
            "image/png": "[encoded data removed]",
            "text/plain": [
              "<Figure size 640x480 with 1 Axes>"
            ]
          },
          "metadata": {},
          "output_type": "display_data"
        }
      ],
      "source": [
        "\n",
        "# 4. Visualize Top Pickup Zones Over Time\n",
        "\n",
        "import seaborn as sns\n",
        "import matplotlib.pyplot as plt\n",
        "\n",
        "top_locations = pickup_counts.index.tolist()\n",
        "df_top = df[df['PULocationID'].isin(top_locations)]\n",
        "\n",
        "sns.countplot(data=df_top, x='pickup_hour', hue='PULocationID')\n",
        "plt.title(\"Pickup Volume by Hour for Top Locations\")\n",
        "plt.xlabel(\"Hour of Day\")\n",
        "plt.ylabel(\"Number of Pickups\")\n",
        "plt.legend(title='PULocationID')\n",
        "plt.show()"
      ]
    },
    {
      "cell_type": "markdown",
      "metadata": {
        "id": "2wiRYL6mORpA"
      },
      "source": [
        "Outliers removal processes"
      ]
    },
    {
      "cell_type": "code",
      "execution_count": 21,
      "metadata": {
        "colab": {
          "base_uri": "https://localhost:8080/",
          "height": 759
        },
        "id": "uaGAmu6tM25O",
        "outputId": "a7ced192-bf71-4778-ffa1-51ea5a51f56c"
      },
      "outputs": [],
      "source": [
        "df['pickup_datetime'] = pd.to_datetime(df['lpep_pickup_datetime'])\n",
        "df['dropoff_datetime'] = pd.to_datetime(df['lpep_dropoff_datetime'])\n",
        "\n",
        "df['trip_duration'] = (df['dropoff_datetime'] - df['pickup_datetime']).dt.total_seconds() / 60\n",
        "df['hour'] = df['pickup_datetime'].dt.hour\n",
        "\n",
        "df_clean = df[\n",
        "    (df['trip_distance'] > 0) & (df['trip_distance'] < 100) &\n",
        "    (df['fare_amount'] > 0) & (df['fare_amount'] < 500) &\n",
        "    (df['trip_duration'] > 0) & (df['trip_duration'] < 180) &\n",
        "    (df['passenger_count'] > 0) & (df['passenger_count'] <= 6)\n",
        "]\n"
      ]
    },
    {
      "cell_type": "code",
      "execution_count": null,
      "metadata": {
        "colab": {
          "base_uri": "https://localhost:8080/"
        },
        "id": "fsd8E-qaOkh1",
        "outputId": "37ce48af-e459-4f75-ac9b-d686fb92f2a4"
      },
      "outputs": [
        {
          "name": "stdout",
          "output_type": "stream",
          "text": [
            "Original Count: 68211\n",
            "After IQR Outlier Removal: 62437\n"
          ]
        }
      ],
      "source": [
        "# Calculate Q1, Q3, and IQR for trip_distance\n",
        "Q1 = df['trip_distance'].quantile(0.25)\n",
        "Q3 = df['trip_distance'].quantile(0.75)\n",
        "IQR = Q3 - Q1\n",
        "\n",
        "# Define bounds\n",
        "lower_bound = Q1 - 1.5 * IQR\n",
        "upper_bound = Q3 + 1.5 * IQR\n",
        "\n",
        "# Filter the DataFrame\n",
        "df_clean_iqr = df[(df['trip_distance'] >= lower_bound) & (df['trip_distance'] <= upper_bound)]\n",
        "\n",
        "print(\"Original Count:\", len(df))\n",
        "print(\"After IQR Outlier Removal:\", len(df_clean_iqr))"
      ]
    },
    {
      "cell_type": "code",
      "execution_count": null,
      "metadata": {
        "colab": {
          "base_uri": "https://localhost:8080/"
        },
        "id": "JH5xtTobOm5d",
        "outputId": "9b4956bc-bf73-4e23-ada4-e244cc135c2c"
      },
      "outputs": [
        {
          "name": "stdout",
          "output_type": "stream",
          "text": [
            "Original Count: 68211\n",
            "After Z-score Outlier Removal: 67148\n"
          ]
        }
      ],
      "source": [
        "import numpy as np\n",
        "\n",
        "# Calculate mean and standard deviation for fare_amount\n",
        "mean_fare = df['fare_amount'].mean()\n",
        "std_fare = df['fare_amount'].std()\n",
        "\n",
        "# Compute z-score\n",
        "df['fare_zscore'] = (df['fare_amount'] - mean_fare) / std_fare\n",
        "\n",
        "# Set threshold (commonly 3 standard deviations)\n",
        "threshold = 3\n",
        "\n",
        "# Filter data based on z-score\n",
        "df_clean_z = df[np.abs(df['fare_zscore']) < threshold]\n",
        "\n",
        "print(\"Original Count:\", len(df))\n",
        "print(\"After Z-score Outlier Removal:\", len(df_clean_z))"
      ]
    },
    {
      "cell_type": "code",
      "execution_count": null,
      "metadata": {
        "colab": {
          "base_uri": "https://localhost:8080/"
        },
        "id": "UXkQrdSAOo11",
        "outputId": "99971c4b-68d2-43a4-c523-7abfe67b88bf"
      },
      "outputs": [
        {
          "name": "stdout",
          "output_type": "stream",
          "text": [
            "After Domain-Specific Outlier Removal: 34037\n"
          ]
        }
      ],
      "source": [
        "# Filter based on domain thresholds\n",
        "df_clean_domain = df[(df['trip_distance'] > 0) & (df['trip_distance'] < 50) &\n",
        "                     (df['trip_duration_min'] > 1) & (df['trip_duration_min'] < 120) &\n",
        "                     (df['fare_amount'] > 2.5) & (df['fare_amount'] < 200)]\n",
        "print(\"After Domain-Specific Outlier Removal:\", len(df_clean_domain))"
      ]
    },
    {
      "cell_type": "code",
      "execution_count": null,
      "metadata": {
        "colab": {
          "base_uri": "https://localhost:8080/"
        },
        "id": "PoQZEWJ1OrML",
        "outputId": "9a34f4fa-83bd-43c0-e549-47e73b1260fd"
      },
      "outputs": [
        {
          "name": "stdout",
          "output_type": "stream",
          "text": [
            "After Combined Outlier Removal: 35157\n"
          ]
        }
      ],
      "source": [
        "# First remove using IQR on trip_distance\n",
        "df_intermediate = df[(df['trip_distance'] >= lower_bound) & (df['trip_distance'] <= upper_bound)]\n",
        "\n",
        "# Then apply domain-specific rules on the intermediate dataset\n",
        "df_clean_combined = df_intermediate[(df_intermediate['trip_duration_min'] > 1) &\n",
        "                                    (df_intermediate['trip_duration_min'] < 120) &\n",
        "                                    (df_intermediate['fare_amount'] > 2.5) &\n",
        "                                    (df_intermediate['fare_amount'] < 200)]\n",
        "print(\"After Combined Outlier Removal:\", len(df_clean_combined))"
      ]
    },
    {
      "cell_type": "markdown",
      "metadata": {
        "id": "zwaJFi1WWKiK"
      },
      "source": [
        "<h4> Pickup Time Outliers </h4>\n"
      ]
    },
    {
      "cell_type": "code",
      "execution_count": null,
      "metadata": {
        "id": "O-2pC8V5WIyP"
      },
      "outputs": [],
      "source": [
        "df['pickup_hour'] = df['lpep_pickup_datetime'].dt.hour\n",
        "df = df[(df['pickup_hour'] >= 0) & (df['pickup_hour'] <= 23)]"
      ]
    },
    {
      "cell_type": "markdown",
      "metadata": {
        "id": "CtTf-NT8WSCh"
      },
      "source": [
        "<h4> Trip Distance Filters </h4>"
      ]
    },
    {
      "cell_type": "code",
      "execution_count": null,
      "metadata": {
        "id": "eii_LjgCWWu6"
      },
      "outputs": [],
      "source": [
        "df = df[(df['trip_distance'] > 0.1) & (df['trip_distance'] < 50)]"
      ]
    },
    {
      "cell_type": "markdown",
      "metadata": {
        "id": "-BBvQMe4WYEv"
      },
      "source": [
        "<h4> Optional Fare Filter </h4>"
      ]
    },
    {
      "cell_type": "code",
      "execution_count": null,
      "metadata": {
        "id": "yH1KN2vGWdtZ"
      },
      "outputs": [],
      "source": [
        "df = df[(df['trip_distance'] > 0.1) & (df['trip_distance'] < 50)]"
      ]
    },
    {
      "cell_type": "markdown",
      "metadata": {
        "id": "8W-CoZu0Wz-3"
      },
      "source": [
        "Analyze Peak Hours per Location"
      ]
    },
    {
      "cell_type": "code",
      "execution_count": null,
      "metadata": {
        "colab": {
          "base_uri": "https://localhost:8080/"
        },
        "id": "FpjNNprYW3Nj",
        "outputId": "32e0f378-b310-491c-b601-c922a705b0f1"
      },
      "outputs": [
        {
          "name": "stdout",
          "output_type": "stream",
          "text": [
            "      PULocationID  pickup_hour  pickup_count\n",
            "679             74            7          1123\n",
            "713             75           17           922\n",
            "332             41           15           369\n",
            "1413           166           15           364\n",
            "794             82           18           357\n",
            "...            ...          ...           ...\n",
            "2103           251            3             1\n",
            "2104           252            2             1\n",
            "2178           259            5             1\n",
            "2205           261            2             1\n",
            "2206           262            7             1\n",
            "\n",
            "[198 rows x 3 columns]\n"
          ]
        }
      ],
      "source": [
        "grouped = df.groupby(['PULocationID', 'pickup_hour']).size().reset_index(name='pickup_count')\n",
        "peak_hours = grouped.loc[grouped.groupby('PULocationID')['pickup_count'].idxmax()]\n",
        "peak_hours = peak_hours.sort_values(by='pickup_count', ascending=False)\n",
        "print(peak_hours)"
      ]
    },
    {
      "cell_type": "code",
      "execution_count": null,
      "metadata": {
        "colab": {
          "base_uri": "https://localhost:8080/",
          "height": 1000
        },
        "id": "ozZvGpwYW6j6",
        "outputId": "f9743694-07ec-4483-a6c4-c701c318e1c4"
      },
      "outputs": [
        {
          "data": {
            "image/png": "[encoded data removed]",
            "text/plain": [
              "<Figure size 640x480 with 1 Axes>"
            ]
          },
          "metadata": {},
          "output_type": "display_data"
        },
        {
          "name": "stdout",
          "output_type": "stream",
          "text": [
            "PULocationID\n",
            "74     12955\n",
            "75      8909\n",
            "41      3941\n",
            "166     3836\n",
            "95      3669\n",
            "43      2846\n",
            "82      2828\n",
            "97      2128\n",
            "244     1768\n",
            "7       1763\n",
            "Name: count, dtype: int64\n"
          ]
        },
        {
          "data": {
            "image/png": "[encoded data removed]",
            "text/plain": [
              "<Figure size 640x480 with 1 Axes>"
            ]
          },
          "metadata": {},
          "output_type": "display_data"
        }
      ],
      "source": [
        "import seaborn as sns\n",
        "import matplotlib.pyplot as plt\n",
        "\n",
        "df['pickup_hour'] = df['lpep_pickup_datetime'].dt.hour\n",
        "df['pickup_day'] = df['lpep_pickup_datetime'].dt.day_name()\n",
        "\n",
        "# Hourly pickup distribution\n",
        "sns.histplot(df['pickup_hour'], bins=24, kde=False)\n",
        "plt.title(\"Total Pickup Distribution by Hour\")\n",
        "plt.xlabel(\"Hour of Day\")\n",
        "plt.ylabel(\"Number of Pickups\")\n",
        "plt.show()\n",
        "\n",
        "top_pu = df['PULocationID'].value_counts().head(10)\n",
        "print(top_pu)\n",
        "# Top 5 pickup locations hourly trend\n",
        "top5_ids = top_pu.index[:5].tolist()\n",
        "df_top5 = df[df['PULocationID'].isin(top5_ids)]\n",
        "\n",
        "sns.countplot(data=df_top5, x='pickup_hour', hue='PULocationID')\n",
        "plt.title(\"Hourly Pickups for Top 5 Pickup Locations\")\n",
        "plt.xlabel(\"Hour\")\n",
        "plt.ylabel(\"Count\")\n",
        "plt.legend(title='PULocationID')\n",
        "plt.show()"
      ]
    },
    {
      "cell_type": "markdown",
      "metadata": {
        "id": "0cf9mr-kYgcP"
      },
      "source": [
        "<h1> Feature Selection </h1>\n"
      ]
    },
    {
      "cell_type": "code",
      "execution_count": null,
      "metadata": {
        "id": "LZB61hIuWm5K"
      },
      "outputs": [],
      "source": [
        "selected_columns = [\n",
        "    'lpep_pickup_datetime',  # Time info\n",
        "    'PULocationID',          # Pickup zone\n",
        "    'trip_distance',         # To filter invalid trips\n",
        "    'fare_amount',           # To filter unrealistic fares\n",
        "    'passenger_count'        # Optional - understand load\n",
        "]\n",
        "df = df[selected_columns].copy()"
      ]
    },
    {
      "cell_type": "markdown",
      "metadata": {
        "id": "2lMrGyCDY7ZC"
      },
      "source": [
        "<h3>Summary of analysis </h3>"
      ]
    },
    {
      "cell_type": "code",
      "execution_count": 27,
      "metadata": {
        "colab": {
          "background_save": true,
          "base_uri": "https://localhost:8080/"
        },
        "id": "mIVc-2YdY7Nm",
        "outputId": "119f3cb4-e4ec-4d16-e4e1-30cc775c29e4"
      },
      "outputs": [
        {
          "name": "stdout",
          "output_type": "stream",
          "text": [
            "Descriptive statistics for pickup hours:\n",
            "count    999.000000\n",
            "mean      10.100100\n",
            "std        5.952214\n",
            "min        0.000000\n",
            "25%        4.000000\n",
            "50%       12.000000\n",
            "75%       15.000000\n",
            "max       19.000000\n",
            "Name: pickup_hour, dtype: float64\n"
          ]
        },
        {
          "data": {
            "image/png": "[encoded data removed]",
            "text/plain": [
              "<Figure size 1000x600 with 1 Axes>"
            ]
          },
          "metadata": {},
          "output_type": "display_data"
        },
        {
          "name": "stdout",
          "output_type": "stream",
          "text": [
            "\n",
            "Top 10 most frequent pickup locations (by PULocationID):\n",
            "PULocationID\n",
            "3      1\n",
            "7     46\n",
            "14     2\n",
            "17     3\n",
            "20     1\n",
            "22     1\n",
            "24    10\n",
            "25     7\n",
            "28     1\n",
            "29     1\n",
            "Name: count, dtype: int64\n"
          ]
        },
        {
          "data": {
            "image/png": "[encoded data removed]",
            "text/plain": [
              "<Figure size 1000x600 with 1 Axes>"
            ]
          },
          "metadata": {},
          "output_type": "display_data"
        }
      ],
      "source": [
        "import pandas as pd\n",
        "import matplotlib.pyplot as plt\n",
        "\n",
        "\n",
        "df = pd.read_excel(\"tlc--.xlsx\", sheet_name=\"Sheet1\")\n",
        "\n",
        "\n",
        "df[\"lpep_pickup_datetime\"] = pd.to_datetime(df[\"lpep_pickup_datetime\"], format=\"%m/%d/%Y %H:%M:%S\", errors='coerce')\n",
        "\n",
        "\n",
        "df.dropna(subset=[\"lpep_pickup_datetime\"], inplace=True)\n",
        "\n",
        "\n",
        "df[\"pickup_hour\"] = df[\"lpep_pickup_datetime\"].dt.hour\n",
        "\n",
        "\n",
        "print(\"Descriptive statistics for pickup hours:\")\n",
        "print(df[\"pickup_hour\"].describe())\n",
        "\n",
        "\n",
        "plt.figure(figsize=(10, 6))\n",
        "plt.hist(df[\"pickup_hour\"], bins=range(0, 25), align='left', edgecolor='black', color='skyblue')\n",
        "plt.xlabel(\"Hour of Day (0-23)\")\n",
        "plt.ylabel(\"Number of Pickups\")\n",
        "plt.title(\"Peak Hours Analysis: Taxi Pickups by Hour\")\n",
        "plt.xticks(range(0, 24))\n",
        "plt.grid(axis='y', alpha=0.75)\n",
        "plt.show()\n",
        "\n",
        "\n",
        "location_counts = df[\"PULocationID\"].value_counts().sort_index()\n",
        "\n",
        "print(\"\\nTop 10 most frequent pickup locations (by PULocationID):\")\n",
        "print(location_counts.head(10))\n",
        "\n",
        "\n",
        "plt.figure(figsize=(10, 6))\n",
        "plt.bar(location_counts.index.astype(str), location_counts.values, color='salmon', edgecolor='black')\n",
        "plt.xlabel(\"Pickup Location ID\")\n",
        "plt.ylabel(\"Number of Pickups\")\n",
        "plt.title(\"Crowded Areas Analysis: Pickups by Pickup Location (PULocationID)\")\n",
        "plt.xticks(rotation=90)\n",
        "plt.grid(axis='y', alpha=0.75)\n",
        "plt.tight_layout()  \n",
        "plt.show()"
      ]
    },
    {
      "cell_type": "markdown",
      "metadata": {},
      "source": [
        "<h1>Hypothesis</h1>\n",
        "\n",
        "<h4>H0: lokasi tidak berpengaruh terhadap peak hours</h4>\n",
        "<h4>H1: peak hours berpengaruh terhadap sebuah lokasi yang ramai</h4>"
      ]
    },
    {
      "cell_type": "markdown",
      "metadata": {},
      "source": [
        "<h4>Chi Square Test </h4>"
      ]
    },
    {
      "cell_type": "code",
      "execution_count": 28,
      "metadata": {},
      "outputs": [
        {
          "name": "stdout",
          "output_type": "stream",
          "text": [
            "Pivot table for top 10 PULocationIDs by peak ride counts:\n",
            "    PULocationID  non_peak_count  peak_count\n",
            "27            74           142.0        92.0\n",
            "28            75            65.0        27.0\n",
            "14            41            54.0        18.0\n",
            "33            95            20.0        15.0\n",
            "30            82            29.0        14.0\n",
            "1              7            33.0        13.0\n",
            "41           130            12.0        11.0\n",
            "50           166            22.0        11.0\n",
            "16            43            11.0        10.0\n",
            "15            42            21.0         8.0\n",
            "\n",
            "Chi-square test result:\n",
            "Chi-square statistic: 12.24393291372439\n",
            "p-value: 0.19990427544846992\n",
            "\n",
            "Poisson Regression Summary:\n"
          ]
        },
        {
          "name": "stderr",
          "output_type": "stream",
          "text": [
            "c:\\Users\\Eric\\AppData\\Local\\Programs\\Python\\Python313\\Lib\\site-packages\\statsmodels\\genmod\\generalized_linear_model.py:1342: PerfectSeparationWarning: Perfect separation or prediction detected, parameter may not be identified\n",
            "  warnings.warn(msg, category=PerfectSeparationWarning)\n"
          ]
        },
        {
          "name": "stdout",
          "output_type": "stream",
          "text": [
            "                 Generalized Linear Model Regression Results                  \n",
            "==============================================================================\n",
            "Dep. Variable:             ride_count   No. Observations:                  115\n",
            "Model:                            GLM   Df Residuals:                        0\n",
            "Model Family:                 Poisson   Df Model:                          114\n",
            "Link Function:                    Log   Scale:                          1.0000\n",
            "Method:                          IRLS   Log-Likelihood:                -182.59\n",
            "Date:                Fri, 23 May 2025   Deviance:                  -1.2434e-14\n",
            "Time:                        00:36:48   Pearson chi2:                 6.24e-26\n",
            "No. Iterations:                     6   Pseudo R-squ. (CS):              1.000\n",
            "Covariance Type:            nonrobust                                         \n",
            "==========================================================================================================\n",
            "                                             coef    std err          z      P>|z|      [0.025      0.975]\n",
            "----------------------------------------------------------------------------------------------------------\n",
            "Intercept                                  1.1357      0.321      3.542      0.000       0.507       1.764\n",
            "C(PULocationID)[T.7]                       2.3608      0.363      6.499      0.000       1.649       3.073\n",
            "C(PULocationID)[T.14]                      0.3466      0.612      0.566      0.571      -0.854       1.547\n",
            "C(PULocationID)[T.17]                     -0.4425      0.764     -0.579      0.563      -1.940       1.055\n",
            "C(PULocationID)[T.20]                     -1.1357      1.041     -1.091      0.275      -3.176       0.905\n",
            "C(PULocationID)[T.22]                     -1.1357      1.041     -1.091      0.275      -3.176       0.905\n",
            "C(PULocationID)[T.24]                      0.9438      0.472      1.998      0.046       0.018       1.870\n",
            "C(PULocationID)[T.25]                      0.6561      0.513      1.279      0.201      -0.349       1.662\n",
            "C(PULocationID)[T.28]                  -4.825e-15      0.707  -6.82e-15      1.000      -1.386       1.386\n",
            "C(PULocationID)[T.29]                     -1.1357      1.041     -1.091      0.275      -3.176       0.905\n",
            "C(PULocationID)[T.33]                      0.8102      0.490      1.653      0.098      -0.150       1.771\n",
            "C(PULocationID)[T.36]                     -0.0370      0.656     -0.057      0.955      -1.322       1.248\n",
            "C(PULocationID)[T.37]                   9.114e-16      0.707   1.29e-15      1.000      -1.386       1.386\n",
            "C(PULocationID)[T.40]                     -1.1357      1.041     -1.091      0.275      -3.176       0.905\n",
            "C(PULocationID)[T.41]                      2.8533      0.347      8.215      0.000       2.173       3.534\n",
            "C(PULocationID)[T.42]                      1.9089      0.386      4.951      0.000       1.153       2.664\n",
            "C(PULocationID)[T.43]                      1.2622      0.436      2.894      0.004       0.407       2.117\n",
            "C(PULocationID)[T.51]                     -1.1357      1.041     -1.091      0.275      -3.176       0.905\n",
            "C(PULocationID)[T.52]                     -0.4425      0.770     -0.574      0.566      -1.952       1.067\n",
            "C(PULocationID)[T.55]                     -1.1357      1.032     -1.100      0.271      -3.158       0.887\n",
            "C(PULocationID)[T.56]                     -1.1357      1.041     -1.091      0.275      -3.176       0.905\n",
            "C(PULocationID)[T.61]                     -0.0370      0.656     -0.057      0.955      -1.322       1.248\n",
            "C(PULocationID)[T.65]                      0.9438      0.472      1.998      0.046       0.018       1.870\n",
            "C(PULocationID)[T.66]                      1.5724      0.409      3.848      0.000       0.772       2.373\n",
            "C(PULocationID)[T.69]                     -0.4425      0.770     -0.574      0.566      -1.952       1.067\n",
            "C(PULocationID)[T.70]                     -1.1357      1.032     -1.100      0.271      -3.158       0.887\n",
            "C(PULocationID)[T.72]                     -1.1357      1.041     -1.091      0.275      -3.176       0.905\n",
            "C(PULocationID)[T.74]                      3.8202      0.331     11.540      0.000       3.171       4.469\n",
            "C(PULocationID)[T.75]                      3.0387      0.343      8.861      0.000       2.367       3.711\n",
            "C(PULocationID)[T.80]                      0.8102      0.493      1.644      0.100      -0.156       1.776\n",
            "C(PULocationID)[T.82]                      2.2316      0.369      6.052      0.000       1.509       2.954\n",
            "C(PULocationID)[T.83]                      0.4738      0.547      0.866      0.386      -0.598       1.546\n",
            "C(PULocationID)[T.92]                      1.0616      0.458      2.318      0.020       0.164       1.959\n",
            "C(PULocationID)[T.95]                      1.8601      0.388      4.788      0.000       1.099       2.621\n",
            "C(PULocationID)[T.97]                      1.1669      0.446      2.616      0.009       0.293       2.041\n",
            "C(PULocationID)[T.101]                    -0.4425      0.770     -0.574      0.566      -1.952       1.067\n",
            "C(PULocationID)[T.112]                     0.9438      0.475      1.988      0.047       0.013       1.874\n",
            "C(PULocationID)[T.116]                     1.3492      0.428      3.154      0.002       0.511       2.188\n",
            "C(PULocationID)[T.117]                 -2.436e-15      0.707  -3.44e-15      1.000      -1.386       1.386\n",
            "C(PULocationID)[T.127]                 -1.872e-15      0.707  -2.65e-15      1.000      -1.386       1.386\n",
            "C(PULocationID)[T.129]                     2.2655      0.367      6.169      0.000       1.546       2.985\n",
            "C(PULocationID)[T.130]                     1.3492      0.428      3.154      0.002       0.511       2.188\n",
            "C(PULocationID)[T.134]                     0.2506      0.590      0.425      0.671      -0.906       1.407\n",
            "C(PULocationID)[T.138]                    -1.1357      1.041     -1.091      0.275      -3.176       0.905\n",
            "C(PULocationID)[T.139]                    -1.1357      1.041     -1.091      0.275      -3.176       0.905\n",
            "C(PULocationID)[T.145]                     0.2506      0.590      0.425      0.671      -0.906       1.407\n",
            "C(PULocationID)[T.146]                    -1.1357      1.041     -1.091      0.275      -3.176       0.905\n",
            "C(PULocationID)[T.147]                    -1.1357      1.041     -1.091      0.275      -3.176       0.905\n",
            "C(PULocationID)[T.152]                     0.2506      0.586      0.428      0.669      -0.898       1.399\n",
            "C(PULocationID)[T.157]                    -0.4425      0.770     -0.574      0.566      -1.952       1.067\n",
            "C(PULocationID)[T.166]                     1.9554      0.383      5.108      0.000       1.205       2.706\n",
            "C(PULocationID)[T.168]                    -0.0370      0.656     -0.057      0.955      -1.322       1.248\n",
            "C(PULocationID)[T.169]                    -1.1357      1.041     -1.091      0.275      -3.176       0.905\n",
            "C(PULocationID)[T.171]                    -0.4425      0.770     -0.574      0.566      -1.952       1.067\n",
            "C(PULocationID)[T.173]                    -0.4425      0.770     -0.574      0.566      -1.952       1.067\n",
            "C(PULocationID)[T.177]                    -1.1357      1.041     -1.091      0.275      -3.176       0.905\n",
            "C(PULocationID)[T.179]                     0.9438      0.475      1.988      0.047       0.013       1.874\n",
            "C(PULocationID)[T.181]                     0.4738      0.543      0.872      0.383      -0.591       1.539\n",
            "C(PULocationID)[T.188]                 -1.108e-16      0.707  -1.57e-16      1.000      -1.386       1.386\n",
            "C(PULocationID)[T.193]                     0.6931      0.559      1.240      0.215      -0.403       1.789\n",
            "C(PULocationID)[T.195]                    -0.4425      0.770     -0.574      0.566      -1.952       1.067\n",
            "C(PULocationID)[T.196]                     0.2506      0.586      0.428      0.669      -0.898       1.399\n",
            "C(PULocationID)[T.210]                    -0.0370      0.651     -0.057      0.955      -1.313       1.239\n",
            "C(PULocationID)[T.213]                 -9.395e-16      0.707  -1.33e-15      1.000      -1.386       1.386\n",
            "C(PULocationID)[T.216]                    -1.1357      1.041     -1.091      0.275      -3.176       0.905\n",
            "C(PULocationID)[T.219]                 -1.031e-15      0.707  -1.46e-15      1.000      -1.386       1.386\n",
            "C(PULocationID)[T.223]                     0.6561      0.513      1.279      0.201      -0.349       1.662\n",
            "C(PULocationID)[T.226]                     0.2506      0.586      0.428      0.669      -0.898       1.399\n",
            "C(PULocationID)[T.228]                    -0.4425      0.770     -0.574      0.566      -1.952       1.067\n",
            "C(PULocationID)[T.236]                    -1.1357      1.032     -1.100      0.271      -3.158       0.887\n",
            "C(PULocationID)[T.241]                    -1.1357      1.041     -1.091      0.275      -3.176       0.905\n",
            "C(PULocationID)[T.243]                    -1.1357      1.041     -1.091      0.275      -3.176       0.905\n",
            "C(PULocationID)[T.244]                     1.0616      0.458      2.318      0.020       0.164       1.959\n",
            "C(PULocationID)[T.250]                    -1.1357      1.041     -1.091      0.275      -3.176       0.905\n",
            "C(PULocationID)[T.251]                    -1.1357      1.041     -1.091      0.275      -3.176       0.905\n",
            "C(PULocationID)[T.255]                     1.5724      0.410      3.834      0.000       0.769       2.376\n",
            "C(PULocationID)[T.256]                     1.0616      0.458      2.318      0.020       0.164       1.959\n",
            "C(PULocationID)[T.257]                  -2.71e-15      0.707  -3.83e-15      1.000      -1.386       1.386\n",
            "C(PULocationID)[T.258]                    -1.1357      1.041     -1.091      0.275      -3.176       0.905\n",
            "C(PULocationID)[T.260]                     2.3608      0.363      6.499      0.000       1.649       3.073\n",
            "C(PULocationID)[T.262]                    -1.1357      1.041     -1.091      0.275      -3.176       0.905\n",
            "C(PULocationID)[T.263]                    -1.1357      1.041     -1.091      0.275      -3.176       0.905\n",
            "C(PULocationID)[T.264]                    -0.0370      0.656     -0.057      0.955      -1.322       1.248\n",
            "C(is_peak)[T.1]                           -1.1357      0.693     -1.639      0.101      -2.494       0.222\n",
            "C(PULocationID)[T.7]:C(is_peak)[T.1]       0.2041      0.765      0.267      0.790      -1.295       1.703\n",
            "C(PULocationID)[T.14]:C(is_peak)[T.1]      0.3466      0.612      0.566      0.571      -0.854       1.547\n",
            "C(PULocationID)[T.17]:C(is_peak)[T.1]      0.4425      1.394      0.318      0.751      -2.289       3.174\n",
            "C(PULocationID)[T.20]:C(is_peak)[T.1]  -6.764e-21   3.54e-16  -1.91e-05      1.000   -6.93e-16    6.93e-16\n",
            "C(PULocationID)[T.22]:C(is_peak)[T.1]   -1.06e-20    4.2e-16  -2.52e-05      1.000   -8.24e-16    8.24e-16\n",
            "C(PULocationID)[T.24]:C(is_peak)[T.1]     -0.2506      1.045     -0.240      0.810      -2.298       1.797\n",
            "C(PULocationID)[T.25]:C(is_peak)[T.1]     -0.6561      1.273     -0.515      0.606      -3.152       1.840\n",
            "C(PULocationID)[T.28]:C(is_peak)[T.1]  -5.046e-15      0.707  -7.14e-15      1.000      -1.386       1.386\n",
            "C(PULocationID)[T.29]:C(is_peak)[T.1]   5.926e-21   4.25e-16   1.39e-05      1.000   -8.34e-16    8.34e-16\n",
            "C(PULocationID)[T.33]:C(is_peak)[T.1]     -0.1171      1.053     -0.111      0.911      -2.180       1.946\n",
            "C(PULocationID)[T.36]:C(is_peak)[T.1]  -1.096e-20   2.81e-16   -3.9e-05      1.000    -5.5e-16     5.5e-16\n",
            "C(PULocationID)[T.37]:C(is_peak)[T.1]   2.407e-15      0.707    3.4e-15      1.000      -1.386       1.386\n",
            "C(PULocationID)[T.40]:C(is_peak)[T.1]  -5.128e-21   1.98e-16  -2.59e-05      1.000   -3.88e-16    3.88e-16\n",
            "C(PULocationID)[T.41]:C(is_peak)[T.1]      0.0370      0.743      0.050      0.960      -1.420       1.494\n",
            "C(PULocationID)[T.42]:C(is_peak)[T.1]      0.1706      0.805      0.212      0.832      -1.408       1.749\n",
            "C(PULocationID)[T.43]:C(is_peak)[T.1]      1.0404      0.816      1.275      0.202      -0.559       2.640\n",
            "C(PULocationID)[T.51]:C(is_peak)[T.1]   -3.91e-21   1.99e-16  -1.97e-05      1.000    -3.9e-16     3.9e-16\n",
            "C(PULocationID)[T.52]:C(is_peak)[T.1]  -3.061e-21   2.74e-16  -1.12e-05      1.000   -5.36e-16    5.36e-16\n",
            "C(PULocationID)[T.55]:C(is_peak)[T.1]      1.1357      1.557      0.729      0.466      -1.916       4.187\n",
            "C(PULocationID)[T.56]:C(is_peak)[T.1]  -6.992e-22   3.07e-16  -2.28e-06      1.000   -6.02e-16    6.02e-16\n",
            "C(PULocationID)[T.61]:C(is_peak)[T.1]   5.075e-23    2.7e-16   1.88e-07      1.000   -5.28e-16    5.28e-16\n",
            "C(PULocationID)[T.65]:C(is_peak)[T.1]      0.1548      0.963      0.161      0.872      -1.733       2.042\n",
            "C(PULocationID)[T.66]:C(is_peak)[T.1]      0.3735      0.827      0.451      0.652      -1.248       1.995\n",
            "C(PULocationID)[T.69]:C(is_peak)[T.1]   2.281e-31   2.33e-16    9.8e-16      1.000   -4.56e-16    4.56e-16\n",
            "C(PULocationID)[T.70]:C(is_peak)[T.1]      1.1357      1.557      0.729      0.466      -1.916       4.187\n",
            "C(PULocationID)[T.72]:C(is_peak)[T.1]  -6.868e-31   4.57e-17   -1.5e-14      1.000   -8.95e-17    8.95e-17\n",
            "C(PULocationID)[T.74]:C(is_peak)[T.1]      0.7016      0.705      0.995      0.320      -0.681       2.084\n",
            "C(PULocationID)[T.75]:C(is_peak)[T.1]      0.2571      0.729      0.353      0.724      -1.172       1.686\n",
            "C(PULocationID)[T.80]:C(is_peak)[T.1]   5.365e-31   4.86e-17    1.1e-14      1.000   -9.52e-17    9.52e-17\n",
            "C(PULocationID)[T.82]:C(is_peak)[T.1]      0.4074      0.764      0.533      0.594      -1.090       1.904\n",
            "C(PULocationID)[T.83]:C(is_peak)[T.1]           0          0        nan        nan           0           0\n",
            "C(PULocationID)[T.92]:C(is_peak)[T.1]      0.5479      0.885      0.619      0.536      -1.187       2.283\n",
            "C(PULocationID)[T.95]:C(is_peak)[T.1]      0.8480      0.771      1.101      0.271      -0.662       2.358\n",
            "C(PULocationID)[T.97]:C(is_peak)[T.1]      0.6248      0.860      0.726      0.468      -1.061       2.311\n",
            "C(PULocationID)[T.101]:C(is_peak)[T.1]          0          0        nan        nan           0           0\n",
            "C(PULocationID)[T.112]:C(is_peak)[T.1]          0          0        nan        nan           0           0\n",
            "C(PULocationID)[T.116]:C(is_peak)[T.1]    -1.3492      1.242     -1.087      0.277      -3.783       1.084\n",
            "C(PULocationID)[T.117]:C(is_peak)[T.1] -1.961e-15      0.707  -2.77e-15      1.000      -1.386       1.386\n",
            "C(PULocationID)[T.127]:C(is_peak)[T.1] -3.183e-15      0.707   -4.5e-15      1.000      -1.386       1.386\n",
            "C(PULocationID)[T.129]:C(is_peak)[T.1]    -0.3196      0.808     -0.396      0.692      -1.903       1.263\n",
            "C(PULocationID)[T.130]:C(is_peak)[T.1]     1.0486      0.806      1.301      0.193      -0.531       2.628\n",
            "C(PULocationID)[T.134]:C(is_peak)[T.1]          0          0        nan        nan           0           0\n",
            "C(PULocationID)[T.138]:C(is_peak)[T.1]          0          0        nan        nan           0           0\n",
            "C(PULocationID)[T.139]:C(is_peak)[T.1]          0          0        nan        nan           0           0\n",
            "C(PULocationID)[T.145]:C(is_peak)[T.1]          0          0        nan        nan           0           0\n",
            "C(PULocationID)[T.146]:C(is_peak)[T.1]          0          0        nan        nan           0           0\n",
            "C(PULocationID)[T.147]:C(is_peak)[T.1]          0          0        nan        nan           0           0\n",
            "C(PULocationID)[T.152]:C(is_peak)[T.1]     1.1357      0.983      1.155      0.248      -0.791       3.062\n",
            "C(PULocationID)[T.157]:C(is_peak)[T.1]          0          0        nan        nan           0           0\n",
            "C(PULocationID)[T.166]:C(is_peak)[T.1]     0.4425      0.783      0.565      0.572      -1.092       1.977\n",
            "C(PULocationID)[T.168]:C(is_peak)[T.1]          0          0        nan        nan           0           0\n",
            "C(PULocationID)[T.169]:C(is_peak)[T.1]          0          0        nan        nan           0           0\n",
            "C(PULocationID)[T.171]:C(is_peak)[T.1]          0          0        nan        nan           0           0\n",
            "C(PULocationID)[T.173]:C(is_peak)[T.1]          0          0        nan        nan           0           0\n",
            "C(PULocationID)[T.177]:C(is_peak)[T.1]          0          0        nan        nan           0           0\n",
            "C(PULocationID)[T.179]:C(is_peak)[T.1]          0          0        nan        nan           0           0\n",
            "C(PULocationID)[T.181]:C(is_peak)[T.1]     0.2194      1.079      0.203      0.839      -1.894       2.333\n",
            "C(PULocationID)[T.188]:C(is_peak)[T.1] -3.082e-16      0.707  -4.36e-16      1.000      -1.386       1.386\n",
            "C(PULocationID)[T.193]:C(is_peak)[T.1]     0.6931      0.559      1.240      0.215      -0.403       1.789\n",
            "C(PULocationID)[T.195]:C(is_peak)[T.1]          0          0        nan        nan           0           0\n",
            "C(PULocationID)[T.196]:C(is_peak)[T.1]     1.3588      0.958      1.419      0.156      -0.518       3.236\n",
            "C(PULocationID)[T.210]:C(is_peak)[T.1]     0.0370      1.335      0.028      0.978      -2.579       2.653\n",
            "C(PULocationID)[T.213]:C(is_peak)[T.1] -1.146e-15      0.707  -1.62e-15      1.000      -1.386       1.386\n",
            "C(PULocationID)[T.216]:C(is_peak)[T.1]          0          0        nan        nan           0           0\n",
            "C(PULocationID)[T.219]:C(is_peak)[T.1] -8.974e-16      0.707  -1.27e-15      1.000      -1.386       1.386\n",
            "C(PULocationID)[T.223]:C(is_peak)[T.1]     0.7302      0.941      0.776      0.438      -1.114       2.575\n",
            "C(PULocationID)[T.226]:C(is_peak)[T.1]     0.4425      1.101      0.402      0.688      -1.715       2.600\n",
            "C(PULocationID)[T.228]:C(is_peak)[T.1]          0          0        nan        nan           0           0\n",
            "C(PULocationID)[T.236]:C(is_peak)[T.1]     1.1357      1.557      0.729      0.466      -1.916       4.187\n",
            "C(PULocationID)[T.241]:C(is_peak)[T.1]          0          0        nan        nan           0           0\n",
            "C(PULocationID)[T.243]:C(is_peak)[T.1]          0          0        nan        nan           0           0\n",
            "C(PULocationID)[T.244]:C(is_peak)[T.1]     0.0370      0.956      0.039      0.969      -1.837       1.911\n",
            "C(PULocationID)[T.250]:C(is_peak)[T.1]          0          0        nan        nan           0           0\n",
            "C(PULocationID)[T.251]:C(is_peak)[T.1]          0          0        nan        nan           0           0\n",
            "C(PULocationID)[T.255]:C(is_peak)[T.1]          0          0        nan        nan           0           0\n",
            "C(PULocationID)[T.256]:C(is_peak)[T.1]    -0.3684      1.038     -0.355      0.723      -2.403       1.666\n",
            "C(PULocationID)[T.257]:C(is_peak)[T.1] -3.022e-15      0.707  -4.27e-15      1.000      -1.386       1.386\n",
            "C(PULocationID)[T.258]:C(is_peak)[T.1]          0          0        nan        nan           0           0\n",
            "C(PULocationID)[T.260]:C(is_peak)[T.1]    -0.2814      0.795     -0.354      0.723      -1.840       1.277\n",
            "C(PULocationID)[T.262]:C(is_peak)[T.1]          0          0        nan        nan           0           0\n",
            "C(PULocationID)[T.263]:C(is_peak)[T.1]          0          0        nan        nan           0           0\n",
            "C(PULocationID)[T.264]:C(is_peak)[T.1]          0          0        nan        nan           0           0\n",
            "==========================================================================================================\n"
          ]
        },
        {
          "data": {
            "image/png": "[encoded data removed]",
            "text/plain": [
              "<Figure size 1200x600 with 2 Axes>"
            ]
          },
          "metadata": {},
          "output_type": "display_data"
        }
      ],
      "source": [
        "import pandas as pd\n",
        "import numpy as np\n",
        "from scipy.stats import chi2_contingency\n",
        "import statsmodels.api as sm\n",
        "import statsmodels.formula.api as smf\n",
        "import matplotlib.pyplot as plt\n",
        "import seaborn as sns\n",
        "\n",
        "\n",
        "df = pd.read_excel(\"tlc--.xlsx\", sheet_name=\"Sheet1\")\n",
        "\n",
        "df[\"lpep_pickup_datetime\"] = pd.to_datetime(df[\"lpep_pickup_datetime\"], format=\"%m/%d/%Y %H:%M:%S\")\n",
        "df[\"PickupHour\"] = df[\"lpep_pickup_datetime\"].dt.hour\n",
        "\n",
        "df[\"is_peak\"] = df[\"PickupHour\"].apply(lambda x: 1 if ((7 <= x <= 9) or (16 <= x <= 19)) else 0)\n",
        "\n",
        "\n",
        "group = df.groupby([\"PULocationID\", \"is_peak\"]).size().reset_index(name=\"ride_count\")\n",
        "\n",
        "pivot = group.pivot(index=\"PULocationID\", columns=\"is_peak\", values=\"ride_count\").fillna(0).reset_index()\n",
        "pivot.columns = [\"PULocationID\", \"non_peak_count\", \"peak_count\"]\n",
        "\n",
        "top_locations = pivot.nlargest(10, \"peak_count\")\n",
        "print(\"Pivot table for top 10 PULocationIDs by peak ride counts:\")\n",
        "print(top_locations)\n",
        "\n",
        "\n",
        "contingency = top_locations[[\"non_peak_count\", \"peak_count\"]].values\n",
        "chi2, p, dof, expected = chi2_contingency(contingency)\n",
        "print(\"\\nChi-square test result:\")\n",
        "print(\"Chi-square statistic:\", chi2)\n",
        "print(\"p-value:\", p)\n",
        "\n",
        "poisson_model = smf.glm(formula=\"ride_count ~ C(PULocationID) * C(is_peak)\",\n",
        "                        data=group,\n",
        "                        family=sm.families.Poisson()).fit()\n",
        "print(\"\\nPoisson Regression Summary:\")\n",
        "print(poisson_model.summary())\n",
        "\n",
        "top_locs = df[\"PULocationID\"].value_counts().nlargest(10).index\n",
        "filtered = df[df[\"PULocationID\"].isin(top_locs)]\n",
        "heat_data = filtered.groupby([\"PULocationID\", \"PickupHour\"]).size().unstack(fill_value=0)\n",
        "\n",
        "plt.figure(figsize=(12, 6))\n",
        "sns.heatmap(heat_data, cmap=\"YlGnBu\", annot=True, fmt=\"d\")\n",
        "plt.title(\"Ride Counts by Pickup Hour for Top 10 Locations\")\n",
        "plt.xlabel(\"Pickup Hour\")\n",
        "plt.ylabel(\"PULocationID\")\n",
        "plt.show()"
      ]
    }
  ],
  "metadata": {
    "colab": {
      "provenance": []
    },
    "kernelspec": {
      "display_name": "Python 3",
      "name": "python3"
    },
    "language_info": {
      "codemirror_mode": {
        "name": "ipython",
        "version": 3
      },
      "file_extension": ".py",
      "mimetype": "text/x-python",
      "name": "python",
      "nbconvert_exporter": "python",
      "pygments_lexer": "ipython3",
      "version": "3.13.1"
    }
  },
  "nbformat": 4,
  "nbformat_minor": 0
}
